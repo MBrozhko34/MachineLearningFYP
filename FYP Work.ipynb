{
 "cells": [
  {
   "cell_type": "code",
   "execution_count": 2,
   "id": "4d354166",
   "metadata": {},
   "outputs": [
    {
     "name": "stderr",
     "output_type": "stream",
     "text": [
      "<frozen importlib._bootstrap>:228: RuntimeWarning: scipy._lib.messagestream.MessageStream size changed, may indicate binary incompatibility. Expected 56 from C header, got 64 from PyObject\n"
     ]
    }
   ],
   "source": [
    "#import relevant libaries\n",
    "import numpy as np\n",
    "import pandas as pd\n",
    "import matplotlib.pyplot as plt\n",
    "import os\n",
    "import glob\n",
    "import datetime as dt\n",
    "\n",
    "from imblearn.over_sampling import RandomOverSampler\n",
    "from imblearn.under_sampling import RandomUnderSampler\n",
    "\n",
    "from sklearn.utils import resample\n",
    "from sklearn.metrics import accuracy_score, f1_score, precision_score, recall_score, confusion_matrix, classification_report\n",
    "from sklearn.linear_model import LogisticRegression\n",
    "from sklearn.naive_bayes import GaussianNB\n",
    "from sklearn.model_selection import train_test_split"
   ]
  },
  {
   "cell_type": "code",
   "execution_count": 3,
   "id": "50ce185b",
   "metadata": {},
   "outputs": [],
   "source": [
    "os.chdir(\"/Users/michael/Documents/Aston/FYP/Dataset\")\n",
    "extension = 'csv'\n",
    "all_filenames = [i for i in glob.glob('*.{}'.format(extension))]\n",
    "#combine all files in the list\n",
    "combined_csv = pd.concat([pd.read_csv(f) for f in all_filenames ])\n",
    "#export to csv\n",
    "combined_csv.to_csv( \"combined_csv.csv\", index=False, encoding='utf-8-sig')"
   ]
  },
  {
   "cell_type": "code",
   "execution_count": 6,
   "id": "377813ca",
   "metadata": {},
   "outputs": [
    {
     "data": {
      "text/html": [
       "<div>\n",
       "<style scoped>\n",
       "    .dataframe tbody tr th:only-of-type {\n",
       "        vertical-align: middle;\n",
       "    }\n",
       "\n",
       "    .dataframe tbody tr th {\n",
       "        vertical-align: top;\n",
       "    }\n",
       "\n",
       "    .dataframe thead th {\n",
       "        text-align: right;\n",
       "    }\n",
       "</style>\n",
       "<table border=\"1\" class=\"dataframe\">\n",
       "  <thead>\n",
       "    <tr style=\"text-align: right;\">\n",
       "      <th></th>\n",
       "      <th>Unnamed: 0</th>\n",
       "      <th>trans_date_trans_time</th>\n",
       "      <th>cc_num</th>\n",
       "      <th>merchant</th>\n",
       "      <th>category</th>\n",
       "      <th>amt</th>\n",
       "      <th>first</th>\n",
       "      <th>last</th>\n",
       "      <th>gender</th>\n",
       "      <th>street</th>\n",
       "      <th>...</th>\n",
       "      <th>lat</th>\n",
       "      <th>long</th>\n",
       "      <th>city_pop</th>\n",
       "      <th>job</th>\n",
       "      <th>dob</th>\n",
       "      <th>trans_num</th>\n",
       "      <th>unix_time</th>\n",
       "      <th>merch_lat</th>\n",
       "      <th>merch_long</th>\n",
       "      <th>is_fraud</th>\n",
       "    </tr>\n",
       "  </thead>\n",
       "  <tbody>\n",
       "    <tr>\n",
       "      <th>0</th>\n",
       "      <td>0</td>\n",
       "      <td>2019-01-01 00:00:18</td>\n",
       "      <td>2703186189652095</td>\n",
       "      <td>fraud_Rippin, Kub and Mann</td>\n",
       "      <td>misc_net</td>\n",
       "      <td>4.97</td>\n",
       "      <td>Jennifer</td>\n",
       "      <td>Banks</td>\n",
       "      <td>F</td>\n",
       "      <td>561 Perry Cove</td>\n",
       "      <td>...</td>\n",
       "      <td>36.0788</td>\n",
       "      <td>-81.1781</td>\n",
       "      <td>3495</td>\n",
       "      <td>Psychologist, counselling</td>\n",
       "      <td>1988-03-09</td>\n",
       "      <td>0b242abb623afc578575680df30655b9</td>\n",
       "      <td>1325376018</td>\n",
       "      <td>36.011293</td>\n",
       "      <td>-82.048315</td>\n",
       "      <td>0</td>\n",
       "    </tr>\n",
       "    <tr>\n",
       "      <th>1</th>\n",
       "      <td>1</td>\n",
       "      <td>2019-01-01 00:00:44</td>\n",
       "      <td>630423337322</td>\n",
       "      <td>fraud_Heller, Gutmann and Zieme</td>\n",
       "      <td>grocery_pos</td>\n",
       "      <td>107.23</td>\n",
       "      <td>Stephanie</td>\n",
       "      <td>Gill</td>\n",
       "      <td>F</td>\n",
       "      <td>43039 Riley Greens Suite 393</td>\n",
       "      <td>...</td>\n",
       "      <td>48.8878</td>\n",
       "      <td>-118.2105</td>\n",
       "      <td>149</td>\n",
       "      <td>Special educational needs teacher</td>\n",
       "      <td>1978-06-21</td>\n",
       "      <td>1f76529f8574734946361c461b024d99</td>\n",
       "      <td>1325376044</td>\n",
       "      <td>49.159047</td>\n",
       "      <td>-118.186462</td>\n",
       "      <td>0</td>\n",
       "    </tr>\n",
       "    <tr>\n",
       "      <th>2</th>\n",
       "      <td>2</td>\n",
       "      <td>2019-01-01 00:00:51</td>\n",
       "      <td>38859492057661</td>\n",
       "      <td>fraud_Lind-Buckridge</td>\n",
       "      <td>entertainment</td>\n",
       "      <td>220.11</td>\n",
       "      <td>Edward</td>\n",
       "      <td>Sanchez</td>\n",
       "      <td>M</td>\n",
       "      <td>594 White Dale Suite 530</td>\n",
       "      <td>...</td>\n",
       "      <td>42.1808</td>\n",
       "      <td>-112.2620</td>\n",
       "      <td>4154</td>\n",
       "      <td>Nature conservation officer</td>\n",
       "      <td>1962-01-19</td>\n",
       "      <td>a1a22d70485983eac12b5b88dad1cf95</td>\n",
       "      <td>1325376051</td>\n",
       "      <td>43.150704</td>\n",
       "      <td>-112.154481</td>\n",
       "      <td>0</td>\n",
       "    </tr>\n",
       "    <tr>\n",
       "      <th>3</th>\n",
       "      <td>3</td>\n",
       "      <td>2019-01-01 00:01:16</td>\n",
       "      <td>3534093764340240</td>\n",
       "      <td>fraud_Kutch, Hermiston and Farrell</td>\n",
       "      <td>gas_transport</td>\n",
       "      <td>45.00</td>\n",
       "      <td>Jeremy</td>\n",
       "      <td>White</td>\n",
       "      <td>M</td>\n",
       "      <td>9443 Cynthia Court Apt. 038</td>\n",
       "      <td>...</td>\n",
       "      <td>46.2306</td>\n",
       "      <td>-112.1138</td>\n",
       "      <td>1939</td>\n",
       "      <td>Patent attorney</td>\n",
       "      <td>1967-01-12</td>\n",
       "      <td>6b849c168bdad6f867558c3793159a81</td>\n",
       "      <td>1325376076</td>\n",
       "      <td>47.034331</td>\n",
       "      <td>-112.561071</td>\n",
       "      <td>0</td>\n",
       "    </tr>\n",
       "    <tr>\n",
       "      <th>4</th>\n",
       "      <td>4</td>\n",
       "      <td>2019-01-01 00:03:06</td>\n",
       "      <td>375534208663984</td>\n",
       "      <td>fraud_Keeling-Crist</td>\n",
       "      <td>misc_pos</td>\n",
       "      <td>41.96</td>\n",
       "      <td>Tyler</td>\n",
       "      <td>Garcia</td>\n",
       "      <td>M</td>\n",
       "      <td>408 Bradley Rest</td>\n",
       "      <td>...</td>\n",
       "      <td>38.4207</td>\n",
       "      <td>-79.4629</td>\n",
       "      <td>99</td>\n",
       "      <td>Dance movement psychotherapist</td>\n",
       "      <td>1986-03-28</td>\n",
       "      <td>a41d7549acf90789359a9aa5346dcb46</td>\n",
       "      <td>1325376186</td>\n",
       "      <td>38.674999</td>\n",
       "      <td>-78.632459</td>\n",
       "      <td>0</td>\n",
       "    </tr>\n",
       "  </tbody>\n",
       "</table>\n",
       "<p>5 rows × 23 columns</p>\n",
       "</div>"
      ],
      "text/plain": [
       "   Unnamed: 0 trans_date_trans_time            cc_num  \\\n",
       "0           0   2019-01-01 00:00:18  2703186189652095   \n",
       "1           1   2019-01-01 00:00:44      630423337322   \n",
       "2           2   2019-01-01 00:00:51    38859492057661   \n",
       "3           3   2019-01-01 00:01:16  3534093764340240   \n",
       "4           4   2019-01-01 00:03:06   375534208663984   \n",
       "\n",
       "                             merchant       category     amt      first  \\\n",
       "0          fraud_Rippin, Kub and Mann       misc_net    4.97   Jennifer   \n",
       "1     fraud_Heller, Gutmann and Zieme    grocery_pos  107.23  Stephanie   \n",
       "2                fraud_Lind-Buckridge  entertainment  220.11     Edward   \n",
       "3  fraud_Kutch, Hermiston and Farrell  gas_transport   45.00     Jeremy   \n",
       "4                 fraud_Keeling-Crist       misc_pos   41.96      Tyler   \n",
       "\n",
       "      last gender                        street  ...      lat      long  \\\n",
       "0    Banks      F                561 Perry Cove  ...  36.0788  -81.1781   \n",
       "1     Gill      F  43039 Riley Greens Suite 393  ...  48.8878 -118.2105   \n",
       "2  Sanchez      M      594 White Dale Suite 530  ...  42.1808 -112.2620   \n",
       "3    White      M   9443 Cynthia Court Apt. 038  ...  46.2306 -112.1138   \n",
       "4   Garcia      M              408 Bradley Rest  ...  38.4207  -79.4629   \n",
       "\n",
       "   city_pop                                job         dob  \\\n",
       "0      3495          Psychologist, counselling  1988-03-09   \n",
       "1       149  Special educational needs teacher  1978-06-21   \n",
       "2      4154        Nature conservation officer  1962-01-19   \n",
       "3      1939                    Patent attorney  1967-01-12   \n",
       "4        99     Dance movement psychotherapist  1986-03-28   \n",
       "\n",
       "                          trans_num   unix_time  merch_lat  merch_long  \\\n",
       "0  0b242abb623afc578575680df30655b9  1325376018  36.011293  -82.048315   \n",
       "1  1f76529f8574734946361c461b024d99  1325376044  49.159047 -118.186462   \n",
       "2  a1a22d70485983eac12b5b88dad1cf95  1325376051  43.150704 -112.154481   \n",
       "3  6b849c168bdad6f867558c3793159a81  1325376076  47.034331 -112.561071   \n",
       "4  a41d7549acf90789359a9aa5346dcb46  1325376186  38.674999  -78.632459   \n",
       "\n",
       "   is_fraud  \n",
       "0         0  \n",
       "1         0  \n",
       "2         0  \n",
       "3         0  \n",
       "4         0  \n",
       "\n",
       "[5 rows x 23 columns]"
      ]
     },
     "execution_count": 6,
     "metadata": {},
     "output_type": "execute_result"
    }
   ],
   "source": [
    "#load dataset and show\n",
    "df = pd.read_csv(\"/Users/michael/Documents/Aston/FYP/Dataset/combined_csv.csv\")\n",
    "df.head()"
   ]
  },
  {
   "cell_type": "code",
   "execution_count": 7,
   "id": "2c315ef0",
   "metadata": {},
   "outputs": [
    {
     "data": {
      "text/plain": [
       "Unnamed: 0                 int64\n",
       "trans_date_trans_time     object\n",
       "cc_num                     int64\n",
       "merchant                  object\n",
       "category                  object\n",
       "amt                      float64\n",
       "first                     object\n",
       "last                      object\n",
       "gender                    object\n",
       "street                    object\n",
       "city                      object\n",
       "state                     object\n",
       "zip                        int64\n",
       "lat                      float64\n",
       "long                     float64\n",
       "city_pop                   int64\n",
       "job                       object\n",
       "dob                       object\n",
       "trans_num                 object\n",
       "unix_time                  int64\n",
       "merch_lat                float64\n",
       "merch_long               float64\n",
       "is_fraud                   int64\n",
       "dtype: object"
      ]
     },
     "execution_count": 7,
     "metadata": {},
     "output_type": "execute_result"
    }
   ],
   "source": [
    "df.dtypes"
   ]
  },
  {
   "cell_type": "code",
   "execution_count": 8,
   "id": "63e05929",
   "metadata": {},
   "outputs": [
    {
     "name": "stdout",
     "output_type": "stream",
     "text": [
      "gender          int64\n",
      "job             int64\n",
      "city            int64\n",
      "amt           float64\n",
      "zip             int64\n",
      "lat           float64\n",
      "long          float64\n",
      "city_pop        int64\n",
      "merch_lat     float64\n",
      "merch_long    float64\n",
      "age             int64\n",
      "hour            int64\n",
      "day             int64\n",
      "month           int64\n",
      "is_fraud        int64\n",
      "dtype: object\n"
     ]
    },
    {
     "data": {
      "text/html": [
       "<div>\n",
       "<style scoped>\n",
       "    .dataframe tbody tr th:only-of-type {\n",
       "        vertical-align: middle;\n",
       "    }\n",
       "\n",
       "    .dataframe tbody tr th {\n",
       "        vertical-align: top;\n",
       "    }\n",
       "\n",
       "    .dataframe thead th {\n",
       "        text-align: right;\n",
       "    }\n",
       "</style>\n",
       "<table border=\"1\" class=\"dataframe\">\n",
       "  <thead>\n",
       "    <tr style=\"text-align: right;\">\n",
       "      <th></th>\n",
       "      <th>gender</th>\n",
       "      <th>job</th>\n",
       "      <th>city</th>\n",
       "      <th>amt</th>\n",
       "      <th>zip</th>\n",
       "      <th>lat</th>\n",
       "      <th>long</th>\n",
       "      <th>city_pop</th>\n",
       "      <th>merch_lat</th>\n",
       "      <th>merch_long</th>\n",
       "      <th>age</th>\n",
       "      <th>hour</th>\n",
       "      <th>day</th>\n",
       "      <th>month</th>\n",
       "      <th>is_fraud</th>\n",
       "    </tr>\n",
       "  </thead>\n",
       "  <tbody>\n",
       "    <tr>\n",
       "      <th>0</th>\n",
       "      <td>0</td>\n",
       "      <td>372</td>\n",
       "      <td>532</td>\n",
       "      <td>4.97</td>\n",
       "      <td>28654</td>\n",
       "      <td>36.0788</td>\n",
       "      <td>-81.1781</td>\n",
       "      <td>3495</td>\n",
       "      <td>36.011293</td>\n",
       "      <td>-82.048315</td>\n",
       "      <td>35</td>\n",
       "      <td>0</td>\n",
       "      <td>1</td>\n",
       "      <td>1</td>\n",
       "      <td>0</td>\n",
       "    </tr>\n",
       "    <tr>\n",
       "      <th>1</th>\n",
       "      <td>0</td>\n",
       "      <td>431</td>\n",
       "      <td>619</td>\n",
       "      <td>107.23</td>\n",
       "      <td>99160</td>\n",
       "      <td>48.8878</td>\n",
       "      <td>-118.2105</td>\n",
       "      <td>149</td>\n",
       "      <td>49.159047</td>\n",
       "      <td>-118.186462</td>\n",
       "      <td>45</td>\n",
       "      <td>0</td>\n",
       "      <td>1</td>\n",
       "      <td>1</td>\n",
       "      <td>0</td>\n",
       "    </tr>\n",
       "    <tr>\n",
       "      <th>2</th>\n",
       "      <td>1</td>\n",
       "      <td>308</td>\n",
       "      <td>474</td>\n",
       "      <td>220.11</td>\n",
       "      <td>83252</td>\n",
       "      <td>42.1808</td>\n",
       "      <td>-112.2620</td>\n",
       "      <td>4154</td>\n",
       "      <td>43.150704</td>\n",
       "      <td>-112.154481</td>\n",
       "      <td>61</td>\n",
       "      <td>0</td>\n",
       "      <td>1</td>\n",
       "      <td>1</td>\n",
       "      <td>0</td>\n",
       "    </tr>\n",
       "    <tr>\n",
       "      <th>3</th>\n",
       "      <td>1</td>\n",
       "      <td>330</td>\n",
       "      <td>84</td>\n",
       "      <td>45.00</td>\n",
       "      <td>59632</td>\n",
       "      <td>46.2306</td>\n",
       "      <td>-112.1138</td>\n",
       "      <td>1939</td>\n",
       "      <td>47.034331</td>\n",
       "      <td>-112.561071</td>\n",
       "      <td>56</td>\n",
       "      <td>0</td>\n",
       "      <td>1</td>\n",
       "      <td>1</td>\n",
       "      <td>0</td>\n",
       "    </tr>\n",
       "    <tr>\n",
       "      <th>4</th>\n",
       "      <td>1</td>\n",
       "      <td>116</td>\n",
       "      <td>217</td>\n",
       "      <td>41.96</td>\n",
       "      <td>24433</td>\n",
       "      <td>38.4207</td>\n",
       "      <td>-79.4629</td>\n",
       "      <td>99</td>\n",
       "      <td>38.674999</td>\n",
       "      <td>-78.632459</td>\n",
       "      <td>37</td>\n",
       "      <td>0</td>\n",
       "      <td>1</td>\n",
       "      <td>1</td>\n",
       "      <td>0</td>\n",
       "    </tr>\n",
       "  </tbody>\n",
       "</table>\n",
       "</div>"
      ],
      "text/plain": [
       "   gender  job  city     amt    zip      lat      long  city_pop  merch_lat  \\\n",
       "0       0  372   532    4.97  28654  36.0788  -81.1781      3495  36.011293   \n",
       "1       0  431   619  107.23  99160  48.8878 -118.2105       149  49.159047   \n",
       "2       1  308   474  220.11  83252  42.1808 -112.2620      4154  43.150704   \n",
       "3       1  330    84   45.00  59632  46.2306 -112.1138      1939  47.034331   \n",
       "4       1  116   217   41.96  24433  38.4207  -79.4629        99  38.674999   \n",
       "\n",
       "   merch_long  age  hour  day  month  is_fraud  \n",
       "0  -82.048315   35     0    1      1         0  \n",
       "1 -118.186462   45     0    1      1         0  \n",
       "2 -112.154481   61     0    1      1         0  \n",
       "3 -112.561071   56     0    1      1         0  \n",
       "4  -78.632459   37     0    1      1         0  "
      ]
     },
     "execution_count": 8,
     "metadata": {},
     "output_type": "execute_result"
    }
   ],
   "source": [
    "from sklearn.preprocessing import LabelEncoder\n",
    "\n",
    "#The following column deals with data preprocessing involving:\n",
    "#   -Type conversions\n",
    "#   -Removal of unnecessary data\n",
    "#   -Reformatting of data to more model-friendly format\n",
    "\n",
    "#create a LabelEncoder which matches strings to a integer label in order to convert non-numeric features to numerical format for the models\n",
    "enc = LabelEncoder()\n",
    "\n",
    "#drop unnecessary columns\n",
    "dfn = df.drop(['Unnamed: 0','first','last','street','state','trans_num'],axis=1)\n",
    "\n",
    "#convert following columns using LabelEncoder\n",
    "\n",
    "enc.fit(dfn['gender'])\n",
    "dfn['gender'] = enc.transform(dfn['gender'])\n",
    "\n",
    "enc.fit(dfn['city'])\n",
    "dfn['city'] = enc.transform(dfn['city'])\n",
    "\n",
    "enc.fit(dfn['job'])\n",
    "dfn['job'] = enc.transform(dfn['job'])\n",
    "\n",
    "\n",
    "#The following functionality aims to seperate the datetime column\n",
    "#so that it can be processed as multiple features\n",
    "#   -This can offer greater performance\n",
    "#   -Allow the identification of trends with regards to specific days, time of day, etc\n",
    "\n",
    "#define several empty lists for following functionality\n",
    "dfn['age']=dt.date.today().year-pd.to_datetime(df['dob']).dt.year\n",
    "dfn['hour']=pd.to_datetime(df['trans_date_trans_time']).dt.hour\n",
    "dfn['day']=pd.to_datetime(df['trans_date_trans_time']).dt.dayofweek\n",
    "dfn['month']=pd.to_datetime(df['trans_date_trans_time']).dt.month\n",
    "\n",
    "dfn=dfn[['gender','job','city','amt','zip','lat','long','city_pop','merch_lat','merch_long','age','hour','day','month','is_fraud']]\n",
    "\n",
    "print(dfn.dtypes)\n",
    "dfn.head()"
   ]
  },
  {
   "cell_type": "code",
   "execution_count": 9,
   "id": "97137886",
   "metadata": {},
   "outputs": [],
   "source": [
    "y=dfn['is_fraud'].values\n",
    "X=dfn.drop(\"is_fraud\", axis='columns').values"
   ]
  },
  {
   "cell_type": "code",
   "execution_count": 11,
   "id": "bbbe29f4",
   "metadata": {},
   "outputs": [
    {
     "name": "stdout",
     "output_type": "stream",
     "text": [
      "0    3685486\n",
      "1      19302\n",
      "Name: is_fraud, dtype: int64\n"
     ]
    }
   ],
   "source": [
    "#split the data into features and labels\n",
    "\n",
    "#labels (y) are the what we are trying to predict and as such, is the 'is_fraud' column\n",
    "y=dfn['is_fraud'].values\n",
    "\n",
    "#format data and for features (X) remove 'is_fraud' column since this is what we are trying to predict\n",
    "X=dfn.drop(['is_fraud'], axis='columns').values\n",
    "\n",
    "print(dfn['is_fraud'].value_counts())"
   ]
  },
  {
   "cell_type": "code",
   "execution_count": 12,
   "id": "8e4a87d4",
   "metadata": {},
   "outputs": [],
   "source": [
    "#split data for training and testing\n",
    "X_train, X_test, Y_train, Y_test = train_test_split(X, y, test_size = 0.33, random_state = 42)"
   ]
  },
  {
   "cell_type": "code",
   "execution_count": 13,
   "id": "f064e9ed",
   "metadata": {},
   "outputs": [
    {
     "name": "stdout",
     "output_type": "stream",
     "text": [
      "Classification report:\n",
      "               precision    recall  f1-score   support\n",
      "\n",
      "           0       1.00      0.95      0.97   1216168\n",
      "           1       0.08      0.75      0.14      6413\n",
      "\n",
      "    accuracy                           0.95   1222581\n",
      "   macro avg       0.54      0.85      0.56   1222581\n",
      "weighted avg       0.99      0.95      0.97   1222581\n",
      "\n"
     ]
    }
   ],
   "source": [
    "#Call function on results of Logistic Regression\n",
    "Y_predL = LogisticRegression(max_iter=1000, class_weight='balanced').fit(X_train, Y_train).predict(X_test)\n",
    "print('Classification report:\\n', classification_report(Y_test, Y_predL))"
   ]
  },
  {
   "cell_type": "code",
   "execution_count": 14,
   "id": "a6b13a38",
   "metadata": {},
   "outputs": [
    {
     "name": "stdout",
     "output_type": "stream",
     "text": [
      "Classification report:\n",
      "               precision    recall  f1-score   support\n",
      "\n",
      "           0       1.00      0.99      1.00   1216168\n",
      "           1       0.30      0.47      0.37      6413\n",
      "\n",
      "    accuracy                           0.99   1222581\n",
      "   macro avg       0.65      0.73      0.68   1222581\n",
      "weighted avg       0.99      0.99      0.99   1222581\n",
      "\n"
     ]
    }
   ],
   "source": [
    "#Call function on results of Gaussian Naive Bayes Algorithms\n",
    "Y_predG = GaussianNB().fit(X_train, Y_train).predict(X_test)\n",
    "print('Classification report:\\n', classification_report(Y_test, Y_predG))"
   ]
  },
  {
   "cell_type": "code",
   "execution_count": 15,
   "id": "81942105",
   "metadata": {},
   "outputs": [
    {
     "name": "stdout",
     "output_type": "stream",
     "text": [
      "0    3685486\n",
      "1    1842743\n",
      "Name: is_fraud, dtype: int64\n"
     ]
    }
   ],
   "source": [
    "# Separate majority and minority classes\n",
    "df_majority = dfn[dfn['is_fraud'] == 0]\n",
    "df_minority = dfn[dfn['is_fraud'] == 1]\n",
    " \n",
    "# Upsample minority class\n",
    "df_minority_upsampled = resample(df_minority, \n",
    "                                 replace=True,      # sample with replacement\n",
    "                                 n_samples=1842743)   # to match majority class\n",
    "                              \n",
    " \n",
    "#Combine majority class with upsampled minority class\n",
    "df_upsampled = pd.concat([df_majority, df_minority_upsampled])\n",
    "print(df_upsampled['is_fraud'].value_counts())\n",
    "\n",
    "y1 = df_upsampled['is_fraud'].values\n",
    "X1=df_upsampled.drop(['is_fraud'], axis=1).values"
   ]
  },
  {
   "cell_type": "code",
   "execution_count": 16,
   "id": "d2e28993",
   "metadata": {},
   "outputs": [],
   "source": [
    "X1_train, X1_test, Y1_train, Y1_test = train_test_split(X1, y1, test_size = 0.33, random_state = 42)"
   ]
  },
  {
   "cell_type": "code",
   "execution_count": 17,
   "id": "44a12009",
   "metadata": {},
   "outputs": [
    {
     "name": "stdout",
     "output_type": "stream",
     "text": [
      "Classification report:\n",
      "               precision    recall  f1-score   support\n",
      "\n",
      "           0       0.87      0.98      0.92   1216213\n",
      "           1       0.94      0.70      0.80    608103\n",
      "\n",
      "    accuracy                           0.88   1824316\n",
      "   macro avg       0.90      0.84      0.86   1824316\n",
      "weighted avg       0.89      0.88      0.88   1824316\n",
      "\n"
     ]
    }
   ],
   "source": [
    "Y1_predL = LogisticRegression(max_iter=10000).fit(X1_train, Y1_train).predict(X1_test)\n",
    "print('Classification report:\\n', classification_report(Y1_test, Y1_predL))"
   ]
  },
  {
   "cell_type": "code",
   "execution_count": 18,
   "id": "125ee130",
   "metadata": {},
   "outputs": [
    {
     "name": "stdout",
     "output_type": "stream",
     "text": [
      "Classification report:\n",
      "               precision    recall  f1-score   support\n",
      "\n",
      "           0       0.80      0.98      0.88   1216213\n",
      "           1       0.94      0.52      0.67    608103\n",
      "\n",
      "    accuracy                           0.83   1824316\n",
      "   macro avg       0.87      0.75      0.78   1824316\n",
      "weighted avg       0.85      0.83      0.81   1824316\n",
      "\n"
     ]
    }
   ],
   "source": [
    "Y1_predG = GaussianNB().fit(X1_train, Y1_train).predict(X1_test)\n",
    "print('Classification report:\\n', classification_report(Y1_test, Y1_predG))"
   ]
  },
  {
   "cell_type": "code",
   "execution_count": 19,
   "id": "3b945e32",
   "metadata": {},
   "outputs": [
    {
     "name": "stdout",
     "output_type": "stream",
     "text": [
      "0    3685486\n",
      "1      92246\n",
      "Name: is_fraud, dtype: int64\n"
     ]
    }
   ],
   "source": [
    "# Separate majority and minority classes\n",
    "df_majority = dfn[dfn['is_fraud'] == 0]\n",
    "df_minority = dfn[dfn['is_fraud'] == 1]\n",
    "\n",
    "# Upsample minority class\n",
    "df_minority_upsampled = resample(df_minority, \n",
    "                                 replace=True,      # sample with replacement\n",
    "                                 n_samples=92246)   # to match majority class\n",
    "\n",
    "#Combine majority class with upsampled minority class\n",
    "df_upsampled = pd.concat([df_majority, df_minority_upsampled])\n",
    "print(df_upsampled['is_fraud'].value_counts())\n",
    "\n",
    "y2 = df_upsampled['is_fraud']\n",
    "X2=df_upsampled.drop(['is_fraud'], axis=1)"
   ]
  },
  {
   "cell_type": "code",
   "execution_count": 20,
   "id": "636995a4",
   "metadata": {},
   "outputs": [],
   "source": [
    "X2_train, X2_test, Y2_train, Y2_test = train_test_split(X2, y2, test_size = 0.2, random_state = 42)"
   ]
  },
  {
   "cell_type": "code",
   "execution_count": 21,
   "id": "cd1bfda2",
   "metadata": {},
   "outputs": [
    {
     "name": "stdout",
     "output_type": "stream",
     "text": [
      "Classification report:\n",
      "               precision    recall  f1-score   support\n",
      "\n",
      "           0       0.98      1.00      0.99    737302\n",
      "           1       0.69      0.28      0.40     18245\n",
      "\n",
      "    accuracy                           0.98    755547\n",
      "   macro avg       0.84      0.64      0.69    755547\n",
      "weighted avg       0.98      0.98      0.98    755547\n",
      "\n"
     ]
    }
   ],
   "source": [
    "Y2_predL = LogisticRegression(max_iter=10000).fit(X2_train, Y2_train).predict(X2_test)\n",
    "print('Classification report:\\n', classification_report(Y2_test, Y2_predL))"
   ]
  },
  {
   "cell_type": "code",
   "execution_count": 22,
   "id": "31300941",
   "metadata": {},
   "outputs": [
    {
     "name": "stdout",
     "output_type": "stream",
     "text": [
      "Classification report:\n",
      "               precision    recall  f1-score   support\n",
      "\n",
      "           0       0.99      0.99      0.99    737302\n",
      "           1       0.61      0.48      0.54     18245\n",
      "\n",
      "    accuracy                           0.98    755547\n",
      "   macro avg       0.80      0.74      0.76    755547\n",
      "weighted avg       0.98      0.98      0.98    755547\n",
      "\n"
     ]
    }
   ],
   "source": [
    "Y2_predG = GaussianNB().fit(X2_train, Y2_train).predict(X2_test)\n",
    "print('Classification report:\\n', classification_report(Y2_test, Y2_predG))"
   ]
  },
  {
   "cell_type": "code",
   "execution_count": 23,
   "id": "36b15f8c",
   "metadata": {},
   "outputs": [],
   "source": [
    "# Perform random over-sampling on dataset\n",
    "\n",
    "ros = RandomOverSampler(random_state=0)\n",
    "X_resampled, y_resampled = ros.fit_resample(X, y)\n",
    "X3_train, X3_test, Y3_train, Y3_test = train_test_split(X_resampled, y_resampled, test_size = 0.3, random_state = 42)"
   ]
  },
  {
   "cell_type": "code",
   "execution_count": 24,
   "id": "5a50cdda",
   "metadata": {},
   "outputs": [
    {
     "name": "stdout",
     "output_type": "stream",
     "text": [
      "Classification report:\n",
      "               precision    recall  f1-score   support\n",
      "\n",
      "           0       0.80      0.95      0.87   1105312\n",
      "           1       0.94      0.76      0.84   1105980\n",
      "\n",
      "    accuracy                           0.85   2211292\n",
      "   macro avg       0.87      0.85      0.85   2211292\n",
      "weighted avg       0.87      0.85      0.85   2211292\n",
      "\n"
     ]
    }
   ],
   "source": [
    "# train and predict features using logistic regression model on over-sampled dataset\n",
    "\n",
    "Y3_predL = LogisticRegression(max_iter=10000).fit(X3_train, Y3_train).predict(X3_test)\n",
    "print('Classification report:\\n', classification_report(Y3_test, Y3_predL))"
   ]
  },
  {
   "cell_type": "code",
   "execution_count": 25,
   "id": "386873e0",
   "metadata": {},
   "outputs": [],
   "source": [
    "# Perform random under-sampling on dataset\n",
    "\n",
    "rus = RandomUnderSampler(random_state=0)\n",
    "X2_resampled, y2_resampled = rus.fit_resample(X, y)\n",
    "X4_train, X4_test, Y4_train, Y4_test = train_test_split(X2_resampled, y2_resampled, test_size = 0.3, random_state = 42)"
   ]
  },
  {
   "cell_type": "code",
   "execution_count": 26,
   "id": "5d5c9a04",
   "metadata": {},
   "outputs": [
    {
     "name": "stdout",
     "output_type": "stream",
     "text": [
      "Classification report:\n",
      "               precision    recall  f1-score   support\n",
      "\n",
      "           0       0.80      0.95      0.87      5791\n",
      "           1       0.94      0.76      0.84      5791\n",
      "\n",
      "    accuracy                           0.86     11582\n",
      "   macro avg       0.87      0.86      0.86     11582\n",
      "weighted avg       0.87      0.86      0.86     11582\n",
      "\n"
     ]
    }
   ],
   "source": [
    "# train and predict features using logistic regression model on under-sampled dataset\n",
    "\n",
    "Y4_predL = LogisticRegression(max_iter=10000).fit(X4_train, Y4_train).predict(X4_test)\n",
    "print('Classification report:\\n', classification_report(Y4_test, Y4_predL))"
   ]
  }
 ],
 "metadata": {
  "kernelspec": {
   "display_name": "Python 3 (ipykernel)",
   "language": "python",
   "name": "python3"
  },
  "language_info": {
   "codemirror_mode": {
    "name": "ipython",
    "version": 3
   },
   "file_extension": ".py",
   "mimetype": "text/x-python",
   "name": "python",
   "nbconvert_exporter": "python",
   "pygments_lexer": "ipython3",
   "version": "3.9.12"
  }
 },
 "nbformat": 4,
 "nbformat_minor": 5
}
