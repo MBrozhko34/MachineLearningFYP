{
 "cells": [
  {
   "cell_type": "markdown",
   "id": "92242632",
   "metadata": {},
   "source": [
    "# Fraud Detection Work"
   ]
  },
  {
   "cell_type": "markdown",
   "id": "5fd85df5",
   "metadata": {},
   "source": [
    "## Introduction and Motivation\n",
    "\n",
    "The following code is intended for the final year project 'Machine Learning for Credit Card Fraud Detection' by Michael Brozhko."
   ]
  },
  {
   "cell_type": "markdown",
   "id": "37fb2584",
   "metadata": {},
   "source": [
    "### Import Libraries"
   ]
  },
  {
   "cell_type": "code",
   "execution_count": 1,
   "id": "4d354166",
   "metadata": {},
   "outputs": [],
   "source": [
    "#import relevant libaries\n",
    "\n",
    "import numpy as np\n",
    "import pandas as pd\n",
    "import scipy as sp\n",
    "import seaborn as sns\n",
    "import matplotlib.pyplot as plt\n",
    "import os\n",
    "import glob\n",
    "import datetime as dt\n",
    "import matplotlib.pyplot as plt\n",
    "import pickle\n",
    "import xgboost as xgb\n",
    "import seaborn as sns\n",
    "import tensorflow as tf\n",
    "\n",
    "from imblearn.over_sampling import RandomOverSampler, SMOTE\n",
    "from imblearn.under_sampling import RandomUnderSampler, NearMiss\n",
    "from collections import Counter\n",
    "\n",
    "from tensorflow import keras\n",
    "from sklearn.svm import SVC\n",
    "from IPython import display\n",
    "from sklearn.utils import resample\n",
    "from sklearn.neighbors import KNeighborsClassifier\n",
    "from sklearn.metrics import accuracy_score, f1_score, precision_score, recall_score, confusion_matrix, classification_report\n",
    "from sklearn.linear_model import LogisticRegression\n",
    "from sklearn.ensemble import RandomForestClassifier\n",
    "from sklearn.naive_bayes import GaussianNB\n",
    "from sklearn.model_selection import train_test_split, KFold, cross_val_score\n",
    "from sklearn.neural_network import MLPClassifier\n",
    "from sklearn.decomposition import PCA\n",
    "from sklearn.preprocessing import MinMaxScaler, Normalizer\n",
    "from sklearn.model_selection import GridSearchCV, RandomizedSearchCV"
   ]
  },
  {
   "cell_type": "markdown",
   "id": "b76f3c7a",
   "metadata": {},
   "source": [
    "### Combine CSVs of Dataset\n",
    "\n",
    "Initially, the dataset uses was already pre split into training and testing data. However, for this experiment to be conducted with high validity, I recombined the dataset and randomly split later to ensure result reliability."
   ]
  },
  {
   "cell_type": "code",
   "execution_count": 3,
   "id": "50ce185b",
   "metadata": {},
   "outputs": [],
   "source": [
    "# The following code is intended to combine the two csv files associated with the dataset in use. \n",
    "# The dataset should be randomly split into testing and training data, as it is unclear how it was initially split\n",
    "\n",
    "os.chdir(\"/Users/michael/Documents/Aston/FYP/Dataset\")\n",
    "extension = 'csv'\n",
    "all_filenames = [i for i in glob.glob('*.{}'.format(extension))]\n",
    "#combine all files in the list\n",
    "combined_csv = pd.concat([pd.read_csv(f) for f in all_filenames ])\n",
    "#export to csv\n",
    "combined_csv.to_csv( \"combined_csv.csv\", index=False, encoding='utf-8-sig')"
   ]
  },
  {
   "cell_type": "markdown",
   "id": "ee6294be",
   "metadata": {},
   "source": [
    "### Load Dataset\n",
    "\n",
    "Load the dataset into a pandas dataframe and output the data types"
   ]
  },
  {
   "cell_type": "code",
   "execution_count": 2,
   "id": "377813ca",
   "metadata": {},
   "outputs": [
    {
     "data": {
      "text/html": [
       "<div>\n",
       "<style scoped>\n",
       "    .dataframe tbody tr th:only-of-type {\n",
       "        vertical-align: middle;\n",
       "    }\n",
       "\n",
       "    .dataframe tbody tr th {\n",
       "        vertical-align: top;\n",
       "    }\n",
       "\n",
       "    .dataframe thead th {\n",
       "        text-align: right;\n",
       "    }\n",
       "</style>\n",
       "<table border=\"1\" class=\"dataframe\">\n",
       "  <thead>\n",
       "    <tr style=\"text-align: right;\">\n",
       "      <th></th>\n",
       "      <th>Unnamed: 0</th>\n",
       "      <th>trans_date_trans_time</th>\n",
       "      <th>cc_num</th>\n",
       "      <th>merchant</th>\n",
       "      <th>category</th>\n",
       "      <th>amt</th>\n",
       "      <th>first</th>\n",
       "      <th>last</th>\n",
       "      <th>gender</th>\n",
       "      <th>street</th>\n",
       "      <th>...</th>\n",
       "      <th>lat</th>\n",
       "      <th>long</th>\n",
       "      <th>city_pop</th>\n",
       "      <th>job</th>\n",
       "      <th>dob</th>\n",
       "      <th>trans_num</th>\n",
       "      <th>unix_time</th>\n",
       "      <th>merch_lat</th>\n",
       "      <th>merch_long</th>\n",
       "      <th>is_fraud</th>\n",
       "    </tr>\n",
       "  </thead>\n",
       "  <tbody>\n",
       "    <tr>\n",
       "      <th>0</th>\n",
       "      <td>0</td>\n",
       "      <td>2019-01-01 00:00:18</td>\n",
       "      <td>2703186189652095</td>\n",
       "      <td>fraud_Rippin, Kub and Mann</td>\n",
       "      <td>misc_net</td>\n",
       "      <td>4.97</td>\n",
       "      <td>Jennifer</td>\n",
       "      <td>Banks</td>\n",
       "      <td>F</td>\n",
       "      <td>561 Perry Cove</td>\n",
       "      <td>...</td>\n",
       "      <td>36.0788</td>\n",
       "      <td>-81.1781</td>\n",
       "      <td>3495</td>\n",
       "      <td>Psychologist, counselling</td>\n",
       "      <td>1988-03-09</td>\n",
       "      <td>0b242abb623afc578575680df30655b9</td>\n",
       "      <td>1325376018</td>\n",
       "      <td>36.011293</td>\n",
       "      <td>-82.048315</td>\n",
       "      <td>0</td>\n",
       "    </tr>\n",
       "    <tr>\n",
       "      <th>1</th>\n",
       "      <td>1</td>\n",
       "      <td>2019-01-01 00:00:44</td>\n",
       "      <td>630423337322</td>\n",
       "      <td>fraud_Heller, Gutmann and Zieme</td>\n",
       "      <td>grocery_pos</td>\n",
       "      <td>107.23</td>\n",
       "      <td>Stephanie</td>\n",
       "      <td>Gill</td>\n",
       "      <td>F</td>\n",
       "      <td>43039 Riley Greens Suite 393</td>\n",
       "      <td>...</td>\n",
       "      <td>48.8878</td>\n",
       "      <td>-118.2105</td>\n",
       "      <td>149</td>\n",
       "      <td>Special educational needs teacher</td>\n",
       "      <td>1978-06-21</td>\n",
       "      <td>1f76529f8574734946361c461b024d99</td>\n",
       "      <td>1325376044</td>\n",
       "      <td>49.159047</td>\n",
       "      <td>-118.186462</td>\n",
       "      <td>0</td>\n",
       "    </tr>\n",
       "    <tr>\n",
       "      <th>2</th>\n",
       "      <td>2</td>\n",
       "      <td>2019-01-01 00:00:51</td>\n",
       "      <td>38859492057661</td>\n",
       "      <td>fraud_Lind-Buckridge</td>\n",
       "      <td>entertainment</td>\n",
       "      <td>220.11</td>\n",
       "      <td>Edward</td>\n",
       "      <td>Sanchez</td>\n",
       "      <td>M</td>\n",
       "      <td>594 White Dale Suite 530</td>\n",
       "      <td>...</td>\n",
       "      <td>42.1808</td>\n",
       "      <td>-112.2620</td>\n",
       "      <td>4154</td>\n",
       "      <td>Nature conservation officer</td>\n",
       "      <td>1962-01-19</td>\n",
       "      <td>a1a22d70485983eac12b5b88dad1cf95</td>\n",
       "      <td>1325376051</td>\n",
       "      <td>43.150704</td>\n",
       "      <td>-112.154481</td>\n",
       "      <td>0</td>\n",
       "    </tr>\n",
       "    <tr>\n",
       "      <th>3</th>\n",
       "      <td>3</td>\n",
       "      <td>2019-01-01 00:01:16</td>\n",
       "      <td>3534093764340240</td>\n",
       "      <td>fraud_Kutch, Hermiston and Farrell</td>\n",
       "      <td>gas_transport</td>\n",
       "      <td>45.00</td>\n",
       "      <td>Jeremy</td>\n",
       "      <td>White</td>\n",
       "      <td>M</td>\n",
       "      <td>9443 Cynthia Court Apt. 038</td>\n",
       "      <td>...</td>\n",
       "      <td>46.2306</td>\n",
       "      <td>-112.1138</td>\n",
       "      <td>1939</td>\n",
       "      <td>Patent attorney</td>\n",
       "      <td>1967-01-12</td>\n",
       "      <td>6b849c168bdad6f867558c3793159a81</td>\n",
       "      <td>1325376076</td>\n",
       "      <td>47.034331</td>\n",
       "      <td>-112.561071</td>\n",
       "      <td>0</td>\n",
       "    </tr>\n",
       "    <tr>\n",
       "      <th>4</th>\n",
       "      <td>4</td>\n",
       "      <td>2019-01-01 00:03:06</td>\n",
       "      <td>375534208663984</td>\n",
       "      <td>fraud_Keeling-Crist</td>\n",
       "      <td>misc_pos</td>\n",
       "      <td>41.96</td>\n",
       "      <td>Tyler</td>\n",
       "      <td>Garcia</td>\n",
       "      <td>M</td>\n",
       "      <td>408 Bradley Rest</td>\n",
       "      <td>...</td>\n",
       "      <td>38.4207</td>\n",
       "      <td>-79.4629</td>\n",
       "      <td>99</td>\n",
       "      <td>Dance movement psychotherapist</td>\n",
       "      <td>1986-03-28</td>\n",
       "      <td>a41d7549acf90789359a9aa5346dcb46</td>\n",
       "      <td>1325376186</td>\n",
       "      <td>38.674999</td>\n",
       "      <td>-78.632459</td>\n",
       "      <td>0</td>\n",
       "    </tr>\n",
       "  </tbody>\n",
       "</table>\n",
       "<p>5 rows × 23 columns</p>\n",
       "</div>"
      ],
      "text/plain": [
       "   Unnamed: 0 trans_date_trans_time            cc_num  \\\n",
       "0           0   2019-01-01 00:00:18  2703186189652095   \n",
       "1           1   2019-01-01 00:00:44      630423337322   \n",
       "2           2   2019-01-01 00:00:51    38859492057661   \n",
       "3           3   2019-01-01 00:01:16  3534093764340240   \n",
       "4           4   2019-01-01 00:03:06   375534208663984   \n",
       "\n",
       "                             merchant       category     amt      first  \\\n",
       "0          fraud_Rippin, Kub and Mann       misc_net    4.97   Jennifer   \n",
       "1     fraud_Heller, Gutmann and Zieme    grocery_pos  107.23  Stephanie   \n",
       "2                fraud_Lind-Buckridge  entertainment  220.11     Edward   \n",
       "3  fraud_Kutch, Hermiston and Farrell  gas_transport   45.00     Jeremy   \n",
       "4                 fraud_Keeling-Crist       misc_pos   41.96      Tyler   \n",
       "\n",
       "      last gender                        street  ...      lat      long  \\\n",
       "0    Banks      F                561 Perry Cove  ...  36.0788  -81.1781   \n",
       "1     Gill      F  43039 Riley Greens Suite 393  ...  48.8878 -118.2105   \n",
       "2  Sanchez      M      594 White Dale Suite 530  ...  42.1808 -112.2620   \n",
       "3    White      M   9443 Cynthia Court Apt. 038  ...  46.2306 -112.1138   \n",
       "4   Garcia      M              408 Bradley Rest  ...  38.4207  -79.4629   \n",
       "\n",
       "   city_pop                                job         dob  \\\n",
       "0      3495          Psychologist, counselling  1988-03-09   \n",
       "1       149  Special educational needs teacher  1978-06-21   \n",
       "2      4154        Nature conservation officer  1962-01-19   \n",
       "3      1939                    Patent attorney  1967-01-12   \n",
       "4        99     Dance movement psychotherapist  1986-03-28   \n",
       "\n",
       "                          trans_num   unix_time  merch_lat  merch_long  \\\n",
       "0  0b242abb623afc578575680df30655b9  1325376018  36.011293  -82.048315   \n",
       "1  1f76529f8574734946361c461b024d99  1325376044  49.159047 -118.186462   \n",
       "2  a1a22d70485983eac12b5b88dad1cf95  1325376051  43.150704 -112.154481   \n",
       "3  6b849c168bdad6f867558c3793159a81  1325376076  47.034331 -112.561071   \n",
       "4  a41d7549acf90789359a9aa5346dcb46  1325376186  38.674999  -78.632459   \n",
       "\n",
       "   is_fraud  \n",
       "0         0  \n",
       "1         0  \n",
       "2         0  \n",
       "3         0  \n",
       "4         0  \n",
       "\n",
       "[5 rows x 23 columns]"
      ]
     },
     "execution_count": 2,
     "metadata": {},
     "output_type": "execute_result"
    }
   ],
   "source": [
    "# load dataset into a new dataframe and show head\n",
    "df = pd.read_csv(\"/Users/michael/Documents/Aston/FYP/Dataset/combined_csv.csv\")\n",
    "# List the initial datatypes of columns in dataframe\n",
    "df.dtypes\n",
    "df.head()"
   ]
  },
  {
   "cell_type": "markdown",
   "id": "393dcb71",
   "metadata": {},
   "source": [
    "## Data Preprocessing\n",
    "\n",
    "In the data preprocessing stage we deal with:\n",
    "    -Type conversions\n",
    "    -Removal of unnecessary data\n",
    "    -Reformatting of data to more model-friendly format"
   ]
  },
  {
   "cell_type": "markdown",
   "id": "a5e42571",
   "metadata": {},
   "source": [
    "### Datetime Column Seperation\n",
    "\n",
    "This segment deals with seperating the datetime column into seperate columns - year, hour, day, month. \n",
    "There may be a correlation between different times of day, different days and different months with fraudulent activity."
   ]
  },
  {
   "cell_type": "code",
   "execution_count": 3,
   "id": "7741488e",
   "metadata": {},
   "outputs": [
    {
     "data": {
      "text/plain": [
       "category       object\n",
       "amt           float64\n",
       "gender         object\n",
       "city           object\n",
       "state          object\n",
       "zip             int64\n",
       "lat           float64\n",
       "long          float64\n",
       "city_pop        int64\n",
       "job            object\n",
       "merch_lat     float64\n",
       "merch_long    float64\n",
       "is_fraud        int64\n",
       "age             int64\n",
       "hour            int64\n",
       "day             int64\n",
       "month           int64\n",
       "dtype: object"
      ]
     },
     "execution_count": 3,
     "metadata": {},
     "output_type": "execute_result"
    }
   ],
   "source": [
    "#The following functionality aims to seperate the datetime column\n",
    "#so that it can be processed as multiple features\n",
    "#   -This can offer greater performance\n",
    "#   -Allow the identification of trends with regards to specific days, time of day, etc\n",
    "\n",
    "#drop unnecessary columns\n",
    "dfn = df.drop(['Unnamed: 0','cc_num','trans_date_trans_time','first','street','last','trans_num','dob','merchant', 'unix_time'],axis=1)\n",
    "dfn.dropna()\n",
    "\n",
    "#define several empty lists for following functionality\n",
    "dfn['age']=dt.date.today().year-pd.to_datetime(df['dob']).dt.year\n",
    "dfn['hour']=pd.to_datetime(df['trans_date_trans_time']).dt.hour\n",
    "dfn['day']=pd.to_datetime(df['trans_date_trans_time']).dt.dayofweek\n",
    "dfn['month']=pd.to_datetime(df['trans_date_trans_time']).dt.month\n",
    "\n",
    "dfn.dtypes"
   ]
  },
  {
   "cell_type": "markdown",
   "id": "053ff678",
   "metadata": {},
   "source": [
    "### Create New Features\n",
    "\n",
    "Creating new features based on certain columns"
   ]
  },
  {
   "cell_type": "code",
   "execution_count": 4,
   "id": "e0e2123c",
   "metadata": {},
   "outputs": [
    {
     "data": {
      "text/plain": [
       "category                       object\n",
       "amt                           float64\n",
       "gender                         object\n",
       "city                           object\n",
       "state                          object\n",
       "zip                             int64\n",
       "lat                           float64\n",
       "long                          float64\n",
       "city_pop                        int64\n",
       "job                            object\n",
       "merch_lat                     float64\n",
       "merch_long                    float64\n",
       "is_fraud                        int64\n",
       "age                             int64\n",
       "hour                            int64\n",
       "day                             int64\n",
       "month                           int64\n",
       "num_transactions                int64\n",
       "avg_transaction_amt           float64\n",
       "transaction_amt_std           float64\n",
       "merchant_customer_distance    float64\n",
       "total_spent                   float64\n",
       "dtype: object"
      ]
     },
     "execution_count": 4,
     "metadata": {},
     "output_type": "execute_result"
    }
   ],
   "source": [
    "# Add a feature that counts the number of transactions made by each credit card\n",
    "dfn['num_transactions'] = df.groupby('cc_num')['trans_num'].transform('count')\n",
    "\n",
    "# Add a feature that calculates the average transaction amount for each credit card\n",
    "dfn['avg_transaction_amt'] = df.groupby('cc_num')['amt'].transform('mean')\n",
    "\n",
    "# Add a feature that calculates the standard deviation of the transaction amounts for each credit card\n",
    "dfn['transaction_amt_std'] = df.groupby('cc_num')['amt'].transform('std')\n",
    "\n",
    "# Add a feature that calculates the distance between the merchant and the customer for each transaction\n",
    "dfn['merchant_customer_distance'] = np.sqrt((df['lat'] - df['merch_lat'])**2 + (df['long'] - df['merch_long'])**2)\n",
    "\n",
    "# Add a feature that calculates the total amount spent by each credit card\n",
    "dfn['total_spent'] = df.groupby('cc_num')['amt'].transform('sum')\n",
    "\n",
    "dfn.dtypes"
   ]
  },
  {
   "cell_type": "code",
   "execution_count": 5,
   "id": "7fd8bd1e",
   "metadata": {},
   "outputs": [
    {
     "name": "stdout",
     "output_type": "stream",
     "text": [
      "51\n",
      "906\n",
      "497\n"
     ]
    }
   ],
   "source": [
    "print(dfn['state'].nunique())\n",
    "print(dfn['city'].nunique())\n",
    "print(dfn['job'].nunique())"
   ]
  },
  {
   "cell_type": "markdown",
   "id": "3036f052",
   "metadata": {},
   "source": [
    "### Feature Encoding\n",
    "\n",
    "Encoding categorical features"
   ]
  },
  {
   "cell_type": "code",
   "execution_count": 6,
   "id": "d4928bc0",
   "metadata": {},
   "outputs": [
    {
     "data": {
      "text/plain": [
       "amt         float64\n",
       "zip           int64\n",
       "lat         float64\n",
       "long        float64\n",
       "city_pop      int64\n",
       "             ...   \n",
       "state_VT    float64\n",
       "state_WA    float64\n",
       "state_WI    float64\n",
       "state_WV    float64\n",
       "state_WY    float64\n",
       "Length: 84, dtype: object"
      ]
     },
     "execution_count": 6,
     "metadata": {},
     "output_type": "execute_result"
    }
   ],
   "source": [
    "from sklearn.preprocessing import OneHotEncoder\n",
    "\n",
    "#The following column deals with data preprocessing involving:\n",
    "#   -Type conversions\n",
    "#   -Removal of unnecessary data\n",
    "#   -Reformatting of data to more model-friendly format\n",
    "\n",
    "\n",
    "# #convert following columns using LabelEncoder\n",
    "# dfn['gender'] = LabelEncoder().fit_transform(dfn['gender'])\n",
    "# dfn['city'] = ce.BinaryEncoder(cols=['city'],return_df=True).fit_transform(dfn)\n",
    "# dfn['job'] = ce.BinaryEncoder(cols=['job'],return_df=True).fit_transform(dfn['job'])\n",
    "# dfn['street'] = enc.fit_transform(dfn['street'])\n",
    "# dfn['state'] = ce.BinaryEncoder(cols=['state'],return_df=True).fit_transform(dfn['state'])\n",
    "# dfn['cc_num'] = enc.fit_transform(dfn['cc_num'])\n",
    "\n",
    "# Create a OneHotEncoder object\n",
    "encoder = OneHotEncoder()\n",
    "encoded_data = encoder.fit_transform(dfn[['gender', 'category','state']]).toarray()\n",
    "new_columns = list(encoder.get_feature_names_out(['gender', 'category','state']))\n",
    "dfn[new_columns] = encoded_data\n",
    "dfn = dfn.drop(['gender', 'category','state','job','city'], axis=1)\n",
    "\n",
    "\n",
    "# #Perform Target Encoding on features 'city', 'job', 'state'\n",
    "# tenc= ce.TargetEncoder()\n",
    "\n",
    "# df_city=tenc.fit_transform(dfn['city'],dfn['is_fraud'])\n",
    "# dfn = df_city.join(dfn.drop('city',axis = 1))\n",
    "\n",
    "# # df_job=tenc.fit_transform(dfn['job'],dfn['is_fraud'])\n",
    "# # dfn = df_job.join(dfn.drop('job',axis = 1))\n",
    "\n",
    "# df_state=tenc.fit_transform(dfn['state'],dfn['is_fraud'])\n",
    "# dfn = df_state.join(dfn.drop('state',axis = 1))\n",
    "\n",
    "# Convert the 'is_fraud' column to boolean data type\n",
    "# dfn['is_fraud'] = dfn['is_fraud'].astype(bool)\n",
    "\n",
    "dfn.dtypes"
   ]
  },
  {
   "cell_type": "markdown",
   "id": "e22c711f",
   "metadata": {},
   "source": [
    "### Scaling Data\n",
    "\n",
    "A standard scaler is used to standerdise the data with the normal distribution with mean = 0"
   ]
  },
  {
   "cell_type": "code",
   "execution_count": 7,
   "id": "e9c32c4f",
   "metadata": {},
   "outputs": [],
   "source": [
    "from sklearn.preprocessing import StandardScaler\n",
    "#scale the data \n",
    "def scale(X):\n",
    "    scaler = MinMaxScaler()\n",
    "    dfn_scaled = pd.DataFrame(scaler.fit_transform(X), columns=X.columns)\n",
    "\n",
    "    return dfn_scaled"
   ]
  },
  {
   "cell_type": "code",
   "execution_count": 8,
   "id": "e12c1449",
   "metadata": {},
   "outputs": [],
   "source": [
    "pd.options.display.max_rows = 4000\n",
    "pd.set_option('display.max_colwidth', None)"
   ]
  },
  {
   "cell_type": "markdown",
   "id": "51f808ea",
   "metadata": {},
   "source": [
    "### Principle Component Analysis"
   ]
  },
  {
   "cell_type": "code",
   "execution_count": 9,
   "id": "e1568de8",
   "metadata": {},
   "outputs": [
    {
     "name": "stdout",
     "output_type": "stream",
     "text": [
      "      amt     zip     lat  long  city_pop  merch_lat  merch_long    age  hour  \\\n",
      "0  15.961  12.177  10.958  6.34     5.784      5.467       5.439  5.412  5.35   \n",
      "\n",
      "     day  month  num_transactions  avg_transaction_amt  transaction_amt_std  \\\n",
      "0  5.125  4.876             4.056                2.431                0.734   \n",
      "\n",
      "   merchant_customer_distance  total_spent  gender_F  gender_M  \\\n",
      "0                       0.531        0.503     0.487     0.444   \n",
      "\n",
      "   category_entertainment  category_food_dining  category_gas_transport  \\\n",
      "0                   0.417                 0.393                   0.384   \n",
      "\n",
      "   category_grocery_net  category_grocery_pos  category_health_fitness  \\\n",
      "0                  0.37                 0.363                     0.34   \n",
      "\n",
      "   category_home  category_kids_pets  category_misc_net  category_misc_pos  \\\n",
      "0          0.333               0.315              0.307              0.237   \n",
      "\n",
      "   category_personal_care  category_shopping_net  category_shopping_pos  \\\n",
      "0                   0.228                  0.192                   0.19   \n",
      "\n",
      "   category_travel  state_AK  state_AL  state_AR  state_AZ  state_CA  \\\n",
      "0            0.186     0.178      0.17     0.165      0.15     0.144   \n",
      "\n",
      "   state_CO  state_CT  state_DC  state_DE  state_FL  state_GA  state_HI  \\\n",
      "0     0.139     0.128     0.125     0.121      0.12      0.12     0.117   \n",
      "\n",
      "   state_IA  state_ID  state_IL  state_IN  state_KS  state_KY  state_LA  \\\n",
      "0     0.115     0.112      0.11     0.108     0.105     0.101     0.097   \n",
      "\n",
      "   state_MA  state_MD  state_ME  state_MI  state_MN  state_MO  state_MS  \\\n",
      "0     0.095     0.092     0.082     0.081     0.077     0.074      0.07   \n",
      "\n",
      "   state_MT  state_NC  state_ND  state_NE  state_NH  state_NJ  state_NM  \\\n",
      "0     0.068     0.061     0.059     0.057     0.052      0.05     0.048   \n",
      "\n",
      "   state_NV  state_NY  state_OH  state_OK  state_OR  state_PA  state_RI  \\\n",
      "0     0.045     0.037     0.036     0.035     0.033     0.025     0.023   \n",
      "\n",
      "   state_SC  state_SD  state_TN  state_TX  state_UT  state_VA   state_VT  \\\n",
      "0     0.018     0.015     0.005     0.003     0.002     0.002  1.098e-04   \n",
      "\n",
      "    state_WA   state_WI   state_WV   state_WY  \n",
      "0  2.664e-05  9.692e-28  2.007e-28  1.890e-28  \n"
     ]
    }
   ],
   "source": [
    "def pca_analysis(X):\n",
    "    cs = X.columns\n",
    "    sc = StandardScaler()\n",
    "    X['amt'] = sc.fit_transform(X[['amt']])\n",
    "    X['zip'] = sc.fit_transform(X[['zip']])\n",
    "    X['lat'] = sc.fit_transform(X[['lat']])\n",
    "    X['long'] = sc.fit_transform(X[['long']])\n",
    "    X['city_pop'] = sc.fit_transform(X[['city_pop']])\n",
    "    X['merch_lat'] = sc.fit_transform(X[['merch_lat']])\n",
    "    X['merch_long'] = sc.fit_transform(X[['merch_long']])\n",
    "    X['hour'] = sc.fit_transform(X[['hour']])\n",
    "    X['day'] = sc.fit_transform(X[['day']])\n",
    "    X['month'] = sc.fit_transform(X[['month']])\n",
    "    X['age'] = sc.fit_transform(X[['age']])\n",
    "    X['merchant_customer_distance'] = sc.fit_transform(X[['merchant_customer_distance']])\n",
    "    X['num_transactions'] = sc.fit_transform(X[['num_transactions']])\n",
    "    X['avg_transaction_amt'] = sc.fit_transform(X[['avg_transaction_amt']])\n",
    "    X['transaction_amt_std'] = sc.fit_transform(X[['transaction_amt_std']])\n",
    "    X['total_spent'] = sc.fit_transform(X[['total_spent']])\n",
    "    \n",
    "    pca = PCA()\n",
    "    X_pca = pca.fit_transform(X)\n",
    "    values = (pca.explained_variance_ratio_*100)\n",
    "    \n",
    "    result = pd.DataFrame(data=[values],columns=cs)\n",
    "    \n",
    "    # The scope of these changes made to\n",
    "    # pandas settings are local to with statement.\n",
    "    with pd.option_context('display.max_rows', None,\n",
    "                           'display.max_columns', None,\n",
    "                           'display.precision', 3,\n",
    "                           ):\n",
    "        print(result)\n",
    "    \n",
    "#     fig, ax = plt.subplots(figsize=(20, 15))\n",
    "#     fig.patch.set_visible(False)\n",
    "\n",
    "#     ax = sns.barplot(x=values, y=cs, hue=cs, orient='h', dodge=False, ax=ax, palette='turbo')\n",
    "#     for bars_group in ax.containers:\n",
    "#         ax.bar_label(bars_group, padding=3, fontsize=18)\n",
    "#     ax.legend(bbox_to_anchor=(1, .5), loc='center left',fontsize=15)\n",
    "#     plt.xlabel('Explained Variance Ratio %', fontsize=25);\n",
    "#     ax.margins(x=0.15)\n",
    "#     sns.despine()\n",
    "#     plt.tight_layout()\n",
    "#     plt.show()\n",
    "    \n",
    "#labels (y) are the what we are trying to predict and as such, is the 'is_fraud' column\n",
    "y=dfn['is_fraud'].values\n",
    "#format data and for features (X) remove 'is_fraud' column since this is what we are trying to predict\n",
    "Xtest=dfn.drop(['is_fraud'], axis='columns')\n",
    "pca_analysis(Xtest)"
   ]
  },
  {
   "cell_type": "code",
   "execution_count": 10,
   "id": "50836597",
   "metadata": {},
   "outputs": [
    {
     "data": {
      "text/plain": [
       "amt           float64\n",
       "zip           float64\n",
       "lat           float64\n",
       "long          float64\n",
       "city_pop      float64\n",
       "merch_lat     float64\n",
       "merch_long    float64\n",
       "age           float64\n",
       "hour          float64\n",
       "dtype: object"
      ]
     },
     "execution_count": 10,
     "metadata": {},
     "output_type": "execute_result"
    }
   ],
   "source": [
    "X=Xtest[['amt','zip','lat','long','city_pop','merch_lat','merch_long','age','hour']]\n",
    "X.dtypes"
   ]
  },
  {
   "cell_type": "markdown",
   "id": "72d9892a",
   "metadata": {},
   "source": [
    "## Results and Analysis\n",
    "\n",
    "The following functionality focuses on conducting the experiment and gaining results"
   ]
  },
  {
   "cell_type": "code",
   "execution_count": 11,
   "id": "d3bc7b3f",
   "metadata": {},
   "outputs": [],
   "source": [
    "# dfn = dfn.drop(['gender','category','job','city','state'],axis=1)"
   ]
  },
  {
   "cell_type": "markdown",
   "id": "75df383d",
   "metadata": {},
   "source": [
    "### plotResults()\n",
    "The following function is defined to plot results based on a parameter 'report' which is a passed classification report"
   ]
  },
  {
   "cell_type": "code",
   "execution_count": 12,
   "id": "ee404d07",
   "metadata": {},
   "outputs": [],
   "source": [
    "def plotResults(report,model):\n",
    "    df = pd.DataFrame(report)\n",
    "    df.iloc[:3, :2].T.plot(kind='bar')\n",
    "    plt.title(model)\n",
    "    plt.xlabel('Class')\n",
    "    plt.ylabel('Performance')\n",
    "    plt.show()"
   ]
  },
  {
   "cell_type": "markdown",
   "id": "b9538ec4",
   "metadata": {},
   "source": [
    "### GridSearchCV\n",
    "\n",
    "Search for best hyperparameters of a model"
   ]
  },
  {
   "cell_type": "code",
   "execution_count": 13,
   "id": "69bb1e39",
   "metadata": {},
   "outputs": [],
   "source": [
    "def gridSearch(model, param_grid):\n",
    "    grid = GridSearchCV(model, param_grid, refit = True, verbose = 3)\n",
    "    return grid"
   ]
  },
  {
   "cell_type": "markdown",
   "id": "56056fe1",
   "metadata": {},
   "source": [
    "### RunModels()\n",
    "\n",
    "Main function called to run the desired Machine Learning models on specified parameters for features (X) and labels (y)\n",
    "\n",
    "This function makes calls to the various prior defined functions.\n",
    "\n",
    "Certain models are commented out/in for testing purposes. For reviewing models, comment/uncomment different code blocks."
   ]
  },
  {
   "cell_type": "code",
   "execution_count": 29,
   "id": "9a197497",
   "metadata": {},
   "outputs": [],
   "source": [
    "from tensorflow.keras.optimizers.legacy import Adam\n",
    "from keras.models import Sequential\n",
    "from keras.layers import Activation, Dense\n",
    "from keras.optimizers import SGD\n",
    "from tensorflow.keras import layers\n",
    "\n",
    "# Function to run models\n",
    "\n",
    "# Avoids code repitiion by encapsulating all functionality in the function, allowing models on different data splits \n",
    "# and sample sizes to be run by calling function and passing relevamt parameters\n",
    "\n",
    "\n",
    "# The function takes the features (x), labels (y) and text (t) as parameters\n",
    "# Performs:\n",
    "#     1. Train-testing data split\n",
    "#     2. Model training and testing\n",
    "#     3. Output of performance metrics through classification_report\n",
    "\n",
    "# The function does not return anything\n",
    "\n",
    "def runModels(X, y, t):\n",
    "    print(\"Performance metrics for \"+t+\" data\")\n",
    "    print(Counter(y))\n",
    "    \n",
    "    X_train, X_test, Y_train, Y_test = train_test_split(X,y,test_size=0.33,random_state=42,stratify=y)\n",
    "    \n",
    "#     regr = LogisticRegression(max_iter=1000, class_weight='balanced',fit_intercept=True,solver='lbfgs')\n",
    "\n",
    "# #     regr = gridSearch(LogisticRegression(max_iter=1000, class_weight='balanced',fit_intercept=True), {\n",
    "# #         'solver'  : ['lbfgs', 'newton-cg', 'liblinear'],\n",
    "# #         'C'       : [0.01,0.05,0.1,1],\n",
    "# #     })\n",
    "\n",
    "#     Y_predL = regr.fit(X_train, Y_train).predict(X_test)\n",
    "#     print(classification_report(Y_test, Y_predL))\n",
    "#     plotResults(classification_report(Y_test, Y_predL, digits=4,  output_dict=True), 'Logistic Regression')\n",
    "    \n",
    "# #     print(\"Logistic Regression Grid Search\")\n",
    "# #     print(\"Tuned Hyperparameters :\", regr.best_params_)\n",
    "# #     print(\"Accuracy :\",regr.best_score_)\n",
    "    \n",
    "#     nb = GaussianNB()\n",
    "        \n",
    "# #     nb = gridSearch(GaussianNB(), {\n",
    "# #         'var_smoothing' : [1e-12,1e-9, 1e-5, 0.00012, 0.0001, 0.00008]\n",
    "# #     })\n",
    "    \n",
    "#     Y_predG = nb.fit(X_train, Y_train).predict(X_test)\n",
    "#     print(classification_report(Y_test, Y_predG))\n",
    "#     plotResults(classification_report(Y_test, Y_predG, digits=4,  output_dict=True), 'Guassian Naive Bayes')\n",
    "    \n",
    "#     print(\"Guassian NB Grid Search\")\n",
    "#     print(\"Tuned Hyperparameters :\", nb.best_params_)\n",
    "#     print(\"Accuracy :\",nb.best_score_)\n",
    "\n",
    "#     xg = xgb.XGBClassifier(objective='binary:logistic',n_jobs=-1)\n",
    "#     Y_predX = xg.fit(X_train, Y_train).predict(X_test)\n",
    "#     print(classification_report(Y_test, Y_predX))\n",
    "#     plotResults(classification_report(Y_test, Y_predX, digits=4,  output_dict=True), 'XGBClassifier')\n",
    "    \n",
    "#     Y_predRF = RandomForestClassifier(n_estimators = 150).fit(X_train, Y_train).predict(X_test)\n",
    "#     print(classification_report(Y_test, Y_predRF))\n",
    "#     plotResults(classification_report(Y_test, Y_predRF, digits=4,  output_dict=True), 'Random Forest')\n",
    "    \n",
    "#     KNN = KNeighborsClassifier(n_neighbors=1)\n",
    "#     Y_predK = KNN.fit(X_train, Y_train).predict(X_test)\n",
    "#     print(classification_report(Y_test, Y_predK))\n",
    "#     plotResults(classification_report(Y_test, Y_predK, digits=4,  output_dict=True),'K-Neighbours Classifier')\n",
    "    \n",
    "#     Y_predMLP = MLPClassifier(hidden_layer_sizes=(200,150),max_iter=1200).fit(X_train, Y_train).predict(X_test)\n",
    "#     print(classification_report(Y_test, Y_predMLP))\n",
    "#     plotResults(classification_report(Y_test, Y_predMLP, digits=4,  output_dict=True),'Multi Layer Perceptron')\n",
    "\n",
    "    model = tf.keras.Sequential([\n",
    "        tf.keras.layers.Dense(128, activation='relu'),\n",
    "        tf.keras.layers.Dense(128, activation='relu'),\n",
    "        tf.keras.layers.Dense(10)\n",
    "    ])\n",
    "    \n",
    "    model.compile(optimizer='adam',\n",
    "              loss=\"mse\",\n",
    "              metrics=['accuracy'])\n",
    "    \n",
    "    model.fit(X_train, Y_train, epochs=5)\n",
    "    \n",
    "    Y_predM = model.predict(X_test)\n",
    "    print(classification_report(Y_test, Y_predM))\n",
    "    \n",
    "    print('done')"
   ]
  },
  {
   "cell_type": "markdown",
   "id": "6d281d95",
   "metadata": {},
   "source": [
    "## Sampling Ratios\n",
    "\n",
    "Results analysis using the above functions is conducted on the data obtained from a variety of different sampling models as-well as the unsampled dataset"
   ]
  },
  {
   "cell_type": "markdown",
   "id": "7f0d6fbc",
   "metadata": {},
   "source": [
    "### Unsampled Data\n",
    "\n",
    "Calculate prediction and analysis of results based on the unsampled data"
   ]
  },
  {
   "cell_type": "code",
   "execution_count": null,
   "id": "bbbe29f4",
   "metadata": {},
   "outputs": [
    {
     "name": "stdout",
     "output_type": "stream",
     "text": [
      "Performance metrics for Unsampled data data\n",
      "Counter({0: 3685486, 1: 19302})\n",
      "Epoch 1/5\n",
      "16875/77569 [=====>........................] - ETA: 5:11 - loss: 0.0039 - accuracy: 0.1164"
     ]
    }
   ],
   "source": [
    "#Run Models\n",
    "runModels(X, y, \"Unsampled data\")"
   ]
  },
  {
   "cell_type": "markdown",
   "id": "109c7d34",
   "metadata": {},
   "source": [
    "# Random Oversampling\n",
    "\n",
    "Random oversampling involves randomly selecting examples from the minority class, with replacement, and adding them to the training dataset.\n",
    "\n",
    "For this experiment, we will oversample the data in ratios 1:1, 10:1 and 100:1 \n",
    "Since the undersampled data was at ratio 368546:19302 majority class to minority class, random oversampling will scale up the number of datapoints for the minority class to match the above ratios."
   ]
  },
  {
   "cell_type": "code",
   "execution_count": 42,
   "id": "36b15f8c",
   "metadata": {},
   "outputs": [
    {
     "name": "stdout",
     "output_type": "stream",
     "text": [
      "Performance metrics for Random Oversampling 1:1 data\n",
      "Counter({False: 3684578, True: 3684578})\n",
      "              precision    recall  f1-score   support\n",
      "\n",
      "       False       0.80      0.95      0.87   1216105\n",
      "        True       0.93      0.76      0.84   1215717\n",
      "\n",
      "    accuracy                           0.86   2431822\n",
      "   macro avg       0.87      0.86      0.85   2431822\n",
      "weighted avg       0.87      0.86      0.85   2431822\n",
      "\n"
     ]
    },
    {
     "data": {
      "image/png": "[encoded data removed]",
      "text/plain": [
       "<Figure size 640x480 with 1 Axes>"
      ]
     },
     "metadata": {},
     "output_type": "display_data"
    },
    {
     "name": "stdout",
     "output_type": "stream",
     "text": [
      "              precision    recall  f1-score   support\n",
      "\n",
      "       False       0.81      0.87      0.84   1216105\n",
      "        True       0.86      0.80      0.83   1215717\n",
      "\n",
      "    accuracy                           0.83   2431822\n",
      "   macro avg       0.84      0.83      0.83   2431822\n",
      "weighted avg       0.84      0.83      0.83   2431822\n",
      "\n"
     ]
    },
    {
     "data": {
      "image/png": "[encoded data removed]",
      "text/plain": [
       "<Figure size 640x480 with 1 Axes>"
      ]
     },
     "metadata": {},
     "output_type": "display_data"
    }
   ],
   "source": [
    "# Perform random over-sampling on dataset\n",
    "\n",
    "ros = RandomOverSampler(random_state=42)\n",
    "X_over, y_over = ros.fit_resample(X, y)\n",
    "runModels(X_over, y_over, \"Random Oversampling 1:1\")\n",
    "\n",
    "# ros2 = RandomOverSampler(random_state=0, sampling_strategy={1:368549})\n",
    "# X_over2, y_over2 = ros2.fit_resample(X, y)\n",
    "# runModels(X_over2, y_over2, \"Random Oversampling 10:1\")\n",
    "\n",
    "# ros3 = RandomOverSampler(random_state=0, sampling_strategy={1:36855})\n",
    "# X_over3, y_over3 = ros3.fit_resample(X, y)\n",
    "# runModels(X_over3, y_over3, \"Random Oversampling 100:1\")"
   ]
  },
  {
   "cell_type": "markdown",
   "id": "dff1c50f",
   "metadata": {},
   "source": [
    "### SMOTE - Systematic Minority Oversampling\n",
    "\n",
    "SMOTE works by selecting examples that are close in the feature space, drawing a line between the examples in the feature space and drawing a new sample at a point along that line.\n",
    "\n",
    "For this experiment, we will oversample the data in ratios 1:1, 10:1 and 100:1 \n",
    "Since the undersampled data was at ratio 368546:19302 majority class to minority class, smote will scale up the number of datapoints for the minority class to match the above ratios."
   ]
  },
  {
   "cell_type": "code",
   "execution_count": 43,
   "id": "7bb44e84",
   "metadata": {},
   "outputs": [
    {
     "name": "stdout",
     "output_type": "stream",
     "text": [
      "Performance metrics for Systematic Majority Oversampling 1:1 data\n",
      "Counter({False: 3684578, True: 3684578})\n",
      "              precision    recall  f1-score   support\n",
      "\n",
      "       False       0.84      0.96      0.90   1216105\n",
      "        True       0.95      0.82      0.88   1215717\n",
      "\n",
      "    accuracy                           0.89   2431822\n",
      "   macro avg       0.90      0.89      0.89   2431822\n",
      "weighted avg       0.90      0.89      0.89   2431822\n",
      "\n"
     ]
    },
    {
     "data": {
      "image/png": "[encoded data removed]",
      "text/plain": [
       "<Figure size 640x480 with 1 Axes>"
      ]
     },
     "metadata": {},
     "output_type": "display_data"
    },
    {
     "name": "stdout",
     "output_type": "stream",
     "text": [
      "              precision    recall  f1-score   support\n",
      "\n",
      "       False       0.85      0.86      0.85   1216105\n",
      "        True       0.85      0.84      0.85   1215717\n",
      "\n",
      "    accuracy                           0.85   2431822\n",
      "   macro avg       0.85      0.85      0.85   2431822\n",
      "weighted avg       0.85      0.85      0.85   2431822\n",
      "\n"
     ]
    },
    {
     "data": {
      "image/png": "[encoded data removed]",
      "text/plain": [
       "<Figure size 640x480 with 1 Axes>"
      ]
     },
     "metadata": {},
     "output_type": "display_data"
    },
    {
     "name": "stdout",
     "output_type": "stream",
     "text": [
      "Performance metrics for Systematic Majority Oversampling 10:1 data\n",
      "Counter({False: 3684578, True: 368549})\n",
      "              precision    recall  f1-score   support\n",
      "\n",
      "       False       0.98      0.96      0.97   1216387\n",
      "        True       0.64      0.82      0.72    121145\n",
      "\n",
      "    accuracy                           0.94   1337532\n",
      "   macro avg       0.81      0.89      0.85   1337532\n",
      "weighted avg       0.95      0.94      0.95   1337532\n",
      "\n"
     ]
    },
    {
     "data": {
      "image/png": "[encoded data removed]",
      "text/plain": [
       "<Figure size 640x480 with 1 Axes>"
      ]
     },
     "metadata": {},
     "output_type": "display_data"
    },
    {
     "name": "stdout",
     "output_type": "stream",
     "text": [
      "              precision    recall  f1-score   support\n",
      "\n",
      "       False       0.97      0.97      0.97   1216387\n",
      "        True       0.69      0.66      0.68    121145\n",
      "\n",
      "    accuracy                           0.94   1337532\n",
      "   macro avg       0.83      0.82      0.82   1337532\n",
      "weighted avg       0.94      0.94      0.94   1337532\n",
      "\n"
     ]
    },
    {
     "data": {
      "image/png": "[encoded data removed]",
      "text/plain": [
       "<Figure size 640x480 with 1 Axes>"
      ]
     },
     "metadata": {},
     "output_type": "display_data"
    },
    {
     "name": "stdout",
     "output_type": "stream",
     "text": [
      "Performance metrics for Systematic Majority Oversampling 100:1 data\n",
      "Counter({False: 3684578, True: 36855})\n",
      "              precision    recall  f1-score   support\n",
      "\n",
      "       False       1.00      0.95      0.97   1216026\n",
      "        True       0.14      0.79      0.23     12047\n",
      "\n",
      "    accuracy                           0.95   1228073\n",
      "   macro avg       0.57      0.87      0.60   1228073\n",
      "weighted avg       0.99      0.95      0.97   1228073\n",
      "\n"
     ]
    },
    {
     "data": {
      "image/png": "[encoded data removed]",
      "text/plain": [
       "<Figure size 640x480 with 1 Axes>"
      ]
     },
     "metadata": {},
     "output_type": "display_data"
    },
    {
     "name": "stdout",
     "output_type": "stream",
     "text": [
      "              precision    recall  f1-score   support\n",
      "\n",
      "       False       1.00      0.98      0.99   1216026\n",
      "        True       0.24      0.54      0.33     12047\n",
      "\n",
      "    accuracy                           0.98   1228073\n",
      "   macro avg       0.62      0.76      0.66   1228073\n",
      "weighted avg       0.99      0.98      0.98   1228073\n",
      "\n"
     ]
    },
    {
     "data": {
      "image/png": "[encoded data removed]",
      "text/plain": [
       "<Figure size 640x480 with 1 Axes>"
      ]
     },
     "metadata": {},
     "output_type": "display_data"
    }
   ],
   "source": [
    "smote = SMOTE(random_state=42)\n",
    "X_smote, y_smote = smote.fit_resample(X, y)\n",
    "runModels(X_smote, y_smote, \"Systematic Majority Oversampling 1:1\")\n",
    "\n",
    "smote2 = SMOTE(random_state=42, sampling_strategy={1:368549})\n",
    "X_smote2, y_smote2 = smote2.fit_resample(X, y)\n",
    "runModels(X_smote2, y_smote2, \"Systematic Majority Oversampling 10:1\")\n",
    "\n",
    "smote3 = SMOTE(random_state=42, sampling_strategy={1:36855})\n",
    "X_smote3, y_smote3  = smote3.fit_resample(X, y)\n",
    "runModels(X_smote3, y_smote3, \"Systematic Majority Oversampling 100:1\")"
   ]
  },
  {
   "cell_type": "markdown",
   "id": "faa36b59",
   "metadata": {},
   "source": [
    "### Random Undersampling\n",
    "\n",
    "Random undersampling involves randomly selecting examples from the majority class to delete from the training dataset. This has the effect of reducing the number of examples in the majority class in the transformed version of the training dataset.\n",
    "\n",
    "For this experiment, we will undersample the data in ratios 1:1, 10:1 and 100:1 Since the data was at ratio 368546:19302 majority class to minority class, random undersampling will scale down the number of datapoints for the majority class to match the above ratios."
   ]
  },
  {
   "cell_type": "code",
   "execution_count": 44,
   "id": "386873e0",
   "metadata": {},
   "outputs": [
    {
     "name": "stdout",
     "output_type": "stream",
     "text": [
      "Performance metrics for Random Undersampling 1:1 data\n",
      "Counter({False: 19211, True: 19211})\n",
      "              precision    recall  f1-score   support\n",
      "\n",
      "       False       0.80      0.95      0.87      6369\n",
      "        True       0.94      0.76      0.84      6311\n",
      "\n",
      "    accuracy                           0.86     12680\n",
      "   macro avg       0.87      0.86      0.85     12680\n",
      "weighted avg       0.87      0.86      0.85     12680\n",
      "\n"
     ]
    },
    {
     "data": {
      "image/png": "[encoded data removed]",
      "text/plain": [
       "<Figure size 640x480 with 1 Axes>"
      ]
     },
     "metadata": {},
     "output_type": "display_data"
    },
    {
     "name": "stdout",
     "output_type": "stream",
     "text": [
      "              precision    recall  f1-score   support\n",
      "\n",
      "       False       0.80      0.87      0.83      6369\n",
      "        True       0.86      0.78      0.82      6311\n",
      "\n",
      "    accuracy                           0.83     12680\n",
      "   macro avg       0.83      0.83      0.83     12680\n",
      "weighted avg       0.83      0.83      0.83     12680\n",
      "\n"
     ]
    },
    {
     "data": {
      "image/png": "[encoded data removed]",
      "text/plain": [
       "<Figure size 640x480 with 1 Axes>"
      ]
     },
     "metadata": {},
     "output_type": "display_data"
    },
    {
     "name": "stdout",
     "output_type": "stream",
     "text": [
      "Performance metrics for Random Undersampling 10:1 data\n",
      "Counter({False: 190000, True: 19000})\n",
      "              precision    recall  f1-score   support\n",
      "\n",
      "       False       0.98      0.94      0.96     62741\n",
      "        True       0.58      0.76      0.66      6229\n",
      "\n",
      "    accuracy                           0.93     68970\n",
      "   macro avg       0.78      0.85      0.81     68970\n",
      "weighted avg       0.94      0.93      0.93     68970\n",
      "\n"
     ]
    },
    {
     "data": {
      "image/png": "[encoded data removed]",
      "text/plain": [
       "<Figure size 640x480 with 1 Axes>"
      ]
     },
     "metadata": {},
     "output_type": "display_data"
    },
    {
     "name": "stdout",
     "output_type": "stream",
     "text": [
      "              precision    recall  f1-score   support\n",
      "\n",
      "       False       0.96      0.97      0.97     62741\n",
      "        True       0.68      0.61      0.64      6229\n",
      "\n",
      "    accuracy                           0.94     68970\n",
      "   macro avg       0.82      0.79      0.81     68970\n",
      "weighted avg       0.94      0.94      0.94     68970\n",
      "\n"
     ]
    },
    {
     "data": {
      "image/png": "[encoded data removed]",
      "text/plain": [
       "<Figure size 640x480 with 1 Axes>"
      ]
     },
     "metadata": {},
     "output_type": "display_data"
    },
    {
     "name": "stdout",
     "output_type": "stream",
     "text": [
      "Performance metrics for Random Undersampling 100:1 data\n",
      "Counter({False: 1900000, True: 19000})\n",
      "              precision    recall  f1-score   support\n",
      "\n",
      "       False       1.00      0.95      0.97    626997\n",
      "        True       0.12      0.76      0.21      6273\n",
      "\n",
      "    accuracy                           0.94    633270\n",
      "   macro avg       0.56      0.85      0.59    633270\n",
      "weighted avg       0.99      0.94      0.96    633270\n",
      "\n"
     ]
    },
    {
     "data": {
      "image/png": "[encoded data removed]",
      "text/plain": [
       "<Figure size 640x480 with 1 Axes>"
      ]
     },
     "metadata": {},
     "output_type": "display_data"
    },
    {
     "name": "stdout",
     "output_type": "stream",
     "text": [
      "              precision    recall  f1-score   support\n",
      "\n",
      "       False       1.00      0.98      0.99    626997\n",
      "        True       0.25      0.53      0.34      6273\n",
      "\n",
      "    accuracy                           0.98    633270\n",
      "   macro avg       0.63      0.76      0.67    633270\n",
      "weighted avg       0.99      0.98      0.98    633270\n",
      "\n"
     ]
    },
    {
     "data": {
      "image/png": "[encoded data removed]",
      "text/plain": [
       "<Figure size 640x480 with 1 Axes>"
      ]
     },
     "metadata": {},
     "output_type": "display_data"
    }
   ],
   "source": [
    "# Perform random under-sampling on dataset\n",
    "\n",
    "rus = RandomUnderSampler(random_state=42)\n",
    "X_under, y_under = rus.fit_resample(X, y)\n",
    "runModels(X_under, y_under, \"Random Undersampling 1:1\")\n",
    "\n",
    "rus2 = RandomUnderSampler(random_state=42, sampling_strategy={0:190000, 1:19000})\n",
    "X_under2, y_under2 = rus2.fit_resample(X, y)\n",
    "runModels(X_under2, y_under2, \"Random Undersampling 10:1\")\n",
    "\n",
    "rus3 = RandomUnderSampler(random_state=42, sampling_strategy={0:1900000, 1:19000})\n",
    "X_under3, y_under3 = rus3.fit_resample(X, y)\n",
    "runModels(X_under3, y_under3, \"Random Undersampling 100:1\")"
   ]
  }
 ],
 "metadata": {
  "kernelspec": {
   "display_name": "Python 3",
   "language": "python",
   "name": "python3"
  },
  "language_info": {
   "codemirror_mode": {
    "name": "ipython",
    "version": 3
   },
   "file_extension": ".py",
   "mimetype": "text/x-python",
   "name": "python",
   "nbconvert_exporter": "python",
   "pygments_lexer": "ipython3",
   "version": "3.8.15"
  }
 },
 "nbformat": 4,
 "nbformat_minor": 5
}
