{
 "cells": [
  {
   "cell_type": "markdown",
   "id": "92242632",
   "metadata": {},
   "source": [
    "# Fraud Detection Work"
   ]
  },
  {
   "cell_type": "markdown",
   "id": "5fd85df5",
   "metadata": {},
   "source": [
    "## Introduction and Motivation\n",
    "\n",
    "The following code is intended for the final year project 'Machine Learning for Credit Card Fraud Detection' by Michael Brozhko."
   ]
  },
  {
   "cell_type": "markdown",
   "id": "37fb2584",
   "metadata": {},
   "source": [
    "### Import Libraries"
   ]
  },
  {
   "cell_type": "code",
   "execution_count": 16,
   "id": "4d354166",
   "metadata": {},
   "outputs": [],
   "source": [
    "#import relevant libaries\n",
    "\n",
    "import numpy as np\n",
    "import pandas as pd\n",
    "import seaborn as sns\n",
    "import matplotlib.pyplot as plt\n",
    "import os\n",
    "import glob\n",
    "import datetime as dt\n",
    "import matplotlib.pyplot as plt\n",
    "\n",
    "from imblearn.over_sampling import RandomOverSampler, SMOTE\n",
    "from imblearn.under_sampling import RandomUnderSampler, NearMiss\n",
    "from collections import Counter\n",
    "\n",
    "from sklearn.svm import SVC\n",
    "from IPython import display\n",
    "from sklearn.utils import resample\n",
    "from sklearn.metrics import accuracy_score, f1_score, precision_score, recall_score, confusion_matrix, classification_report\n",
    "from sklearn.linear_model import LogisticRegression\n",
    "from sklearn.ensemble import RandomForestClassifier\n",
    "from sklearn.naive_bayes import GaussianNB\n",
    "from sklearn.model_selection import train_test_split, KFold, cross_val_score\n",
    "from sklearn.neural_network import MLPClassifier\n",
    "from sklearn.pipeline import Pipeline\n",
    "from sklearn.decomposition import PCA\n",
    "from sklearn.preprocessing import MinMaxScaler, Normalizer"
   ]
  },
  {
   "cell_type": "markdown",
   "id": "b76f3c7a",
   "metadata": {},
   "source": [
    "### Combine CSVs of Dataset\n",
    "\n",
    "Initially, the dataset uses was already pre split into training and testing data. However, for this experiment to be conducted with high validity, I recombined the dataset and randomly split later to ensure result reliability."
   ]
  },
  {
   "cell_type": "code",
   "execution_count": 3,
   "id": "50ce185b",
   "metadata": {},
   "outputs": [],
   "source": [
    "# The following code is intended to combine the two csv files associated with the dataset in use. \n",
    "# The dataset should be randomly split into testing and training data, as it is unclear how it was initially split\n",
    "\n",
    "os.chdir(\"/Users/michael/Documents/Aston/FYP/Dataset\")\n",
    "extension = 'csv'\n",
    "all_filenames = [i for i in glob.glob('*.{}'.format(extension))]\n",
    "#combine all files in the list\n",
    "combined_csv = pd.concat([pd.read_csv(f) for f in all_filenames ])\n",
    "#export to csv\n",
    "combined_csv.to_csv( \"combined_csv.csv\", index=False, encoding='utf-8-sig')"
   ]
  },
  {
   "cell_type": "markdown",
   "id": "ee6294be",
   "metadata": {},
   "source": [
    "### Load Dataset\n",
    "\n",
    "Load the dataset into a pandas dataframe and output the data types"
   ]
  },
  {
   "cell_type": "code",
   "execution_count": 2,
   "id": "377813ca",
   "metadata": {},
   "outputs": [
    {
     "data": {
      "text/plain": [
       "Unnamed: 0                 int64\n",
       "trans_date_trans_time     object\n",
       "cc_num                     int64\n",
       "merchant                  object\n",
       "category                  object\n",
       "amt                      float64\n",
       "first                     object\n",
       "last                      object\n",
       "gender                    object\n",
       "street                    object\n",
       "city                      object\n",
       "state                     object\n",
       "zip                        int64\n",
       "lat                      float64\n",
       "long                     float64\n",
       "city_pop                   int64\n",
       "job                       object\n",
       "dob                       object\n",
       "trans_num                 object\n",
       "unix_time                  int64\n",
       "merch_lat                float64\n",
       "merch_long               float64\n",
       "is_fraud                   int64\n",
       "dtype: object"
      ]
     },
     "execution_count": 2,
     "metadata": {},
     "output_type": "execute_result"
    }
   ],
   "source": [
    "# load dataset into a new dataframe and show head\n",
    "df = pd.read_csv(\"/Users/michael/Documents/Aston/FYP/Dataset/combined_csv.csv\")\n",
    "df.head()\n",
    "\n",
    "# List the initial datatypes of columns in dataframe\n",
    "df.dtypes"
   ]
  },
  {
   "cell_type": "markdown",
   "id": "393dcb71",
   "metadata": {},
   "source": [
    "## Data Preprocessing\n",
    "\n",
    "In the data preprocessing stage we deal with:\n",
    "    -Type conversions\n",
    "    -Removal of unnecessary data\n",
    "    -Reformatting of data to more model-friendly format"
   ]
  },
  {
   "cell_type": "markdown",
   "id": "f44acb24",
   "metadata": {},
   "source": [
    "### LabelEncoder() \n",
    "\n",
    "This function encodes strings as an integer label. Matching strings are encoded as the same integer value. This converts non numerical features to numeric."
   ]
  },
  {
   "cell_type": "code",
   "execution_count": 3,
   "id": "63e05929",
   "metadata": {},
   "outputs": [
    {
     "data": {
      "text/html": [
       "<div>\n",
       "<style scoped>\n",
       "    .dataframe tbody tr th:only-of-type {\n",
       "        vertical-align: middle;\n",
       "    }\n",
       "\n",
       "    .dataframe tbody tr th {\n",
       "        vertical-align: top;\n",
       "    }\n",
       "\n",
       "    .dataframe thead th {\n",
       "        text-align: right;\n",
       "    }\n",
       "</style>\n",
       "<table border=\"1\" class=\"dataframe\">\n",
       "  <thead>\n",
       "    <tr style=\"text-align: right;\">\n",
       "      <th></th>\n",
       "      <th>trans_date_trans_time</th>\n",
       "      <th>cc_num</th>\n",
       "      <th>merchant</th>\n",
       "      <th>category</th>\n",
       "      <th>amt</th>\n",
       "      <th>gender</th>\n",
       "      <th>city</th>\n",
       "      <th>zip</th>\n",
       "      <th>lat</th>\n",
       "      <th>long</th>\n",
       "      <th>city_pop</th>\n",
       "      <th>job</th>\n",
       "      <th>dob</th>\n",
       "      <th>unix_time</th>\n",
       "      <th>merch_lat</th>\n",
       "      <th>merch_long</th>\n",
       "      <th>is_fraud</th>\n",
       "    </tr>\n",
       "  </thead>\n",
       "  <tbody>\n",
       "    <tr>\n",
       "      <th>0</th>\n",
       "      <td>2019-01-01 00:00:18</td>\n",
       "      <td>2703186189652095</td>\n",
       "      <td>fraud_Rippin, Kub and Mann</td>\n",
       "      <td>misc_net</td>\n",
       "      <td>4.97</td>\n",
       "      <td>0</td>\n",
       "      <td>532</td>\n",
       "      <td>28654</td>\n",
       "      <td>36.0788</td>\n",
       "      <td>-81.1781</td>\n",
       "      <td>3495</td>\n",
       "      <td>372</td>\n",
       "      <td>1988-03-09</td>\n",
       "      <td>1325376018</td>\n",
       "      <td>36.011293</td>\n",
       "      <td>-82.048315</td>\n",
       "      <td>0</td>\n",
       "    </tr>\n",
       "    <tr>\n",
       "      <th>1</th>\n",
       "      <td>2019-01-01 00:00:44</td>\n",
       "      <td>630423337322</td>\n",
       "      <td>fraud_Heller, Gutmann and Zieme</td>\n",
       "      <td>grocery_pos</td>\n",
       "      <td>107.23</td>\n",
       "      <td>0</td>\n",
       "      <td>619</td>\n",
       "      <td>99160</td>\n",
       "      <td>48.8878</td>\n",
       "      <td>-118.2105</td>\n",
       "      <td>149</td>\n",
       "      <td>431</td>\n",
       "      <td>1978-06-21</td>\n",
       "      <td>1325376044</td>\n",
       "      <td>49.159047</td>\n",
       "      <td>-118.186462</td>\n",
       "      <td>0</td>\n",
       "    </tr>\n",
       "    <tr>\n",
       "      <th>2</th>\n",
       "      <td>2019-01-01 00:00:51</td>\n",
       "      <td>38859492057661</td>\n",
       "      <td>fraud_Lind-Buckridge</td>\n",
       "      <td>entertainment</td>\n",
       "      <td>220.11</td>\n",
       "      <td>1</td>\n",
       "      <td>474</td>\n",
       "      <td>83252</td>\n",
       "      <td>42.1808</td>\n",
       "      <td>-112.2620</td>\n",
       "      <td>4154</td>\n",
       "      <td>308</td>\n",
       "      <td>1962-01-19</td>\n",
       "      <td>1325376051</td>\n",
       "      <td>43.150704</td>\n",
       "      <td>-112.154481</td>\n",
       "      <td>0</td>\n",
       "    </tr>\n",
       "    <tr>\n",
       "      <th>3</th>\n",
       "      <td>2019-01-01 00:01:16</td>\n",
       "      <td>3534093764340240</td>\n",
       "      <td>fraud_Kutch, Hermiston and Farrell</td>\n",
       "      <td>gas_transport</td>\n",
       "      <td>45.00</td>\n",
       "      <td>1</td>\n",
       "      <td>84</td>\n",
       "      <td>59632</td>\n",
       "      <td>46.2306</td>\n",
       "      <td>-112.1138</td>\n",
       "      <td>1939</td>\n",
       "      <td>330</td>\n",
       "      <td>1967-01-12</td>\n",
       "      <td>1325376076</td>\n",
       "      <td>47.034331</td>\n",
       "      <td>-112.561071</td>\n",
       "      <td>0</td>\n",
       "    </tr>\n",
       "    <tr>\n",
       "      <th>4</th>\n",
       "      <td>2019-01-01 00:03:06</td>\n",
       "      <td>375534208663984</td>\n",
       "      <td>fraud_Keeling-Crist</td>\n",
       "      <td>misc_pos</td>\n",
       "      <td>41.96</td>\n",
       "      <td>1</td>\n",
       "      <td>217</td>\n",
       "      <td>24433</td>\n",
       "      <td>38.4207</td>\n",
       "      <td>-79.4629</td>\n",
       "      <td>99</td>\n",
       "      <td>116</td>\n",
       "      <td>1986-03-28</td>\n",
       "      <td>1325376186</td>\n",
       "      <td>38.674999</td>\n",
       "      <td>-78.632459</td>\n",
       "      <td>0</td>\n",
       "    </tr>\n",
       "  </tbody>\n",
       "</table>\n",
       "</div>"
      ],
      "text/plain": [
       "  trans_date_trans_time            cc_num                            merchant  \\\n",
       "0   2019-01-01 00:00:18  2703186189652095          fraud_Rippin, Kub and Mann   \n",
       "1   2019-01-01 00:00:44      630423337322     fraud_Heller, Gutmann and Zieme   \n",
       "2   2019-01-01 00:00:51    38859492057661                fraud_Lind-Buckridge   \n",
       "3   2019-01-01 00:01:16  3534093764340240  fraud_Kutch, Hermiston and Farrell   \n",
       "4   2019-01-01 00:03:06   375534208663984                 fraud_Keeling-Crist   \n",
       "\n",
       "        category     amt  gender  city    zip      lat      long  city_pop  \\\n",
       "0       misc_net    4.97       0   532  28654  36.0788  -81.1781      3495   \n",
       "1    grocery_pos  107.23       0   619  99160  48.8878 -118.2105       149   \n",
       "2  entertainment  220.11       1   474  83252  42.1808 -112.2620      4154   \n",
       "3  gas_transport   45.00       1    84  59632  46.2306 -112.1138      1939   \n",
       "4       misc_pos   41.96       1   217  24433  38.4207  -79.4629        99   \n",
       "\n",
       "   job         dob   unix_time  merch_lat  merch_long  is_fraud  \n",
       "0  372  1988-03-09  1325376018  36.011293  -82.048315         0  \n",
       "1  431  1978-06-21  1325376044  49.159047 -118.186462         0  \n",
       "2  308  1962-01-19  1325376051  43.150704 -112.154481         0  \n",
       "3  330  1967-01-12  1325376076  47.034331 -112.561071         0  \n",
       "4  116  1986-03-28  1325376186  38.674999  -78.632459         0  "
      ]
     },
     "execution_count": 3,
     "metadata": {},
     "output_type": "execute_result"
    }
   ],
   "source": [
    "from sklearn.preprocessing import LabelEncoder\n",
    "\n",
    "#The following column deals with data preprocessing involving:\n",
    "#   -Type conversions\n",
    "#   -Removal of unnecessary data\n",
    "#   -Reformatting of data to more model-friendly format\n",
    "\n",
    "#drop unnecessary columns\n",
    "dfn = df.drop(['Unnamed: 0','first','last','street','state','trans_num'],axis=1)\n",
    "\n",
    "#create a LabelEncoder which matches strings to a integer label in order to convert non-numeric features to numerical format for the models\n",
    "enc = LabelEncoder()\n",
    "\n",
    "#convert following columns using LabelEncoder\n",
    "dfn['gender'] = enc.fit_transform(dfn['gender'])\n",
    "dfn['city'] = enc.fit_transform(dfn['city'])\n",
    "dfn['job'] = enc.fit_transform(dfn['job'])\n",
    "\n",
    "dfn = dfn.astype({\"gender\": int, \"city\": int, \"job\": int})\n",
    "\n",
    "dfn.head()\n"
   ]
  },
  {
   "cell_type": "markdown",
   "id": "a5e42571",
   "metadata": {},
   "source": [
    "### Datetime Column Seperation\n",
    "\n",
    "This segment deals with seperating the datetime column into seperate columns - year, hour, day, month. \n",
    "There may be a correlation between different times of day, different days and different months with fraudulent activity."
   ]
  },
  {
   "cell_type": "code",
   "execution_count": 4,
   "id": "7741488e",
   "metadata": {},
   "outputs": [
    {
     "name": "stdout",
     "output_type": "stream",
     "text": [
      "gender          int64\n",
      "job             int64\n",
      "city            int64\n",
      "amt           float64\n",
      "zip             int64\n",
      "lat           float64\n",
      "long          float64\n",
      "city_pop        int64\n",
      "merch_lat     float64\n",
      "merch_long    float64\n",
      "age             int64\n",
      "hour            int64\n",
      "day             int64\n",
      "month           int64\n",
      "is_fraud        int64\n",
      "dtype: object\n"
     ]
    },
    {
     "data": {
      "text/html": [
       "<div>\n",
       "<style scoped>\n",
       "    .dataframe tbody tr th:only-of-type {\n",
       "        vertical-align: middle;\n",
       "    }\n",
       "\n",
       "    .dataframe tbody tr th {\n",
       "        vertical-align: top;\n",
       "    }\n",
       "\n",
       "    .dataframe thead th {\n",
       "        text-align: right;\n",
       "    }\n",
       "</style>\n",
       "<table border=\"1\" class=\"dataframe\">\n",
       "  <thead>\n",
       "    <tr style=\"text-align: right;\">\n",
       "      <th></th>\n",
       "      <th>gender</th>\n",
       "      <th>job</th>\n",
       "      <th>city</th>\n",
       "      <th>amt</th>\n",
       "      <th>zip</th>\n",
       "      <th>lat</th>\n",
       "      <th>long</th>\n",
       "      <th>city_pop</th>\n",
       "      <th>merch_lat</th>\n",
       "      <th>merch_long</th>\n",
       "      <th>age</th>\n",
       "      <th>hour</th>\n",
       "      <th>day</th>\n",
       "      <th>month</th>\n",
       "      <th>is_fraud</th>\n",
       "    </tr>\n",
       "  </thead>\n",
       "  <tbody>\n",
       "    <tr>\n",
       "      <th>0</th>\n",
       "      <td>0</td>\n",
       "      <td>372</td>\n",
       "      <td>532</td>\n",
       "      <td>4.97</td>\n",
       "      <td>28654</td>\n",
       "      <td>36.0788</td>\n",
       "      <td>-81.1781</td>\n",
       "      <td>3495</td>\n",
       "      <td>36.011293</td>\n",
       "      <td>-82.048315</td>\n",
       "      <td>35</td>\n",
       "      <td>0</td>\n",
       "      <td>1</td>\n",
       "      <td>1</td>\n",
       "      <td>0</td>\n",
       "    </tr>\n",
       "    <tr>\n",
       "      <th>1</th>\n",
       "      <td>0</td>\n",
       "      <td>431</td>\n",
       "      <td>619</td>\n",
       "      <td>107.23</td>\n",
       "      <td>99160</td>\n",
       "      <td>48.8878</td>\n",
       "      <td>-118.2105</td>\n",
       "      <td>149</td>\n",
       "      <td>49.159047</td>\n",
       "      <td>-118.186462</td>\n",
       "      <td>45</td>\n",
       "      <td>0</td>\n",
       "      <td>1</td>\n",
       "      <td>1</td>\n",
       "      <td>0</td>\n",
       "    </tr>\n",
       "    <tr>\n",
       "      <th>2</th>\n",
       "      <td>1</td>\n",
       "      <td>308</td>\n",
       "      <td>474</td>\n",
       "      <td>220.11</td>\n",
       "      <td>83252</td>\n",
       "      <td>42.1808</td>\n",
       "      <td>-112.2620</td>\n",
       "      <td>4154</td>\n",
       "      <td>43.150704</td>\n",
       "      <td>-112.154481</td>\n",
       "      <td>61</td>\n",
       "      <td>0</td>\n",
       "      <td>1</td>\n",
       "      <td>1</td>\n",
       "      <td>0</td>\n",
       "    </tr>\n",
       "    <tr>\n",
       "      <th>3</th>\n",
       "      <td>1</td>\n",
       "      <td>330</td>\n",
       "      <td>84</td>\n",
       "      <td>45.00</td>\n",
       "      <td>59632</td>\n",
       "      <td>46.2306</td>\n",
       "      <td>-112.1138</td>\n",
       "      <td>1939</td>\n",
       "      <td>47.034331</td>\n",
       "      <td>-112.561071</td>\n",
       "      <td>56</td>\n",
       "      <td>0</td>\n",
       "      <td>1</td>\n",
       "      <td>1</td>\n",
       "      <td>0</td>\n",
       "    </tr>\n",
       "    <tr>\n",
       "      <th>4</th>\n",
       "      <td>1</td>\n",
       "      <td>116</td>\n",
       "      <td>217</td>\n",
       "      <td>41.96</td>\n",
       "      <td>24433</td>\n",
       "      <td>38.4207</td>\n",
       "      <td>-79.4629</td>\n",
       "      <td>99</td>\n",
       "      <td>38.674999</td>\n",
       "      <td>-78.632459</td>\n",
       "      <td>37</td>\n",
       "      <td>0</td>\n",
       "      <td>1</td>\n",
       "      <td>1</td>\n",
       "      <td>0</td>\n",
       "    </tr>\n",
       "  </tbody>\n",
       "</table>\n",
       "</div>"
      ],
      "text/plain": [
       "   gender  job  city     amt    zip      lat      long  city_pop  merch_lat  \\\n",
       "0       0  372   532    4.97  28654  36.0788  -81.1781      3495  36.011293   \n",
       "1       0  431   619  107.23  99160  48.8878 -118.2105       149  49.159047   \n",
       "2       1  308   474  220.11  83252  42.1808 -112.2620      4154  43.150704   \n",
       "3       1  330    84   45.00  59632  46.2306 -112.1138      1939  47.034331   \n",
       "4       1  116   217   41.96  24433  38.4207  -79.4629        99  38.674999   \n",
       "\n",
       "   merch_long  age  hour  day  month  is_fraud  \n",
       "0  -82.048315   35     0    1      1         0  \n",
       "1 -118.186462   45     0    1      1         0  \n",
       "2 -112.154481   61     0    1      1         0  \n",
       "3 -112.561071   56     0    1      1         0  \n",
       "4  -78.632459   37     0    1      1         0  "
      ]
     },
     "execution_count": 4,
     "metadata": {},
     "output_type": "execute_result"
    }
   ],
   "source": [
    "#The following functionality aims to seperate the datetime column\n",
    "#so that it can be processed as multiple features\n",
    "#   -This can offer greater performance\n",
    "#   -Allow the identification of trends with regards to specific days, time of day, etc\n",
    "\n",
    "#define several empty lists for following functionality\n",
    "dfn['age']=dt.date.today().year-pd.to_datetime(df['dob']).dt.year\n",
    "dfn['hour']=pd.to_datetime(df['trans_date_trans_time']).dt.hour\n",
    "dfn['day']=pd.to_datetime(df['trans_date_trans_time']).dt.dayofweek\n",
    "dfn['month']=pd.to_datetime(df['trans_date_trans_time']).dt.month\n",
    "\n",
    "dfn=dfn[['gender','job','city','amt','zip','lat','long','city_pop','merch_lat','merch_long','age','hour','day','month','is_fraud']]\n",
    "\n",
    "print(dfn.dtypes)\n",
    "dfn.head()"
   ]
  },
  {
   "cell_type": "markdown",
   "id": "e22c711f",
   "metadata": {},
   "source": [
    "### Scaling Data\n",
    "\n",
    "A standard scaler is used to standerdise the data with the normal distribution with mean = 0"
   ]
  },
  {
   "cell_type": "code",
   "execution_count": 28,
   "id": "e9c32c4f",
   "metadata": {},
   "outputs": [],
   "source": [
    "def pca(X):\n",
    "    scaler = MinMaxScaler()\n",
    "    X_scaled = scaler.fit_transform(X)\n",
    "    \n",
    "    pca3 = PCA(n_components=10,random_state=2020)\n",
    "    X_pca = pca3.fit_transform(X_scaled)\n",
    "    return X_pca"
   ]
  },
  {
   "cell_type": "markdown",
   "id": "3b4f037a",
   "metadata": {},
   "source": [
    "### K-Fold Cross Validation"
   ]
  },
  {
   "cell_type": "code",
   "execution_count": 29,
   "id": "483c1642",
   "metadata": {},
   "outputs": [],
   "source": [
    "def cross_validation(model, X, y):\n",
    "    kf = KFold(n_splits=5)\n",
    "    acc_score = []\n",
    " \n",
    "    for train_index , test_index in kf.split(X):\n",
    "        X_train , X_test = X.iloc[train_index,:],X.iloc[test_index,:]\n",
    "        y_train , y_test = y[train_index] , y[test_index]\n",
    "\n",
    "        model.fit(X_train,y_train)\n",
    "        pred_values = model.predict(X_test)\n",
    "\n",
    "        acc = accuracy_score(pred_values , y_test)\n",
    "        acc_score.append(acc)\n",
    "\n",
    "    avg_acc_score = sum(acc_score)/5\n",
    "\n",
    "    print('accuracy of each fold - {}'.format(acc_score))\n",
    "    print('Avg accuracy : {}'.format(avg_acc_score))"
   ]
  },
  {
   "cell_type": "markdown",
   "id": "72d9892a",
   "metadata": {},
   "source": [
    "## Results\n",
    "\n",
    "The following functionality focuses on conducting the experiment and gaining results"
   ]
  },
  {
   "cell_type": "markdown",
   "id": "0573e9ed",
   "metadata": {},
   "source": [
    "### resultsReport()"
   ]
  },
  {
   "cell_type": "code",
   "execution_count": 30,
   "id": "27a1d158",
   "metadata": {},
   "outputs": [],
   "source": [
    "def resultsReport(y_test, y_predict):\n",
    "    accuracy = accuracy_score(y_test, y_predict)\n",
    "    precision = precision_score(y_test, y_predict)\n",
    "    recall = recall_score(y_test, y_predict)\n",
    "    f1 = f1_score(y_test, y_predict)\n",
    "    \n",
    "    plotResults(accuracy, precision, recall, f1)\n",
    "    "
   ]
  },
  {
   "cell_type": "markdown",
   "id": "75df383d",
   "metadata": {},
   "source": [
    "### plotResults()\n",
    "The following function is defined to plot results based on a parameter 'report' which is a passed classification report"
   ]
  },
  {
   "cell_type": "code",
   "execution_count": 31,
   "id": "ee404d07",
   "metadata": {},
   "outputs": [],
   "source": [
    "def plotResults(report):\n",
    "    df = pd.DataFrame(report)\n",
    "    df.iloc[:3, :2].T.plot(kind='bar')\n",
    "    plt.show()"
   ]
  },
  {
   "cell_type": "markdown",
   "id": "f749240e",
   "metadata": {},
   "source": [
    "### runModels()\n",
    "\n",
    "Avoids code repitiion by encapsulating all functionality in the function, allowing models on different data splits and sample sizes to be run by calling function and passing relevamt parameters\n",
    "\n",
    "The function takes the features (x), labels (y) and text (t) as parameters. \n",
    "\n",
    "The function performs train test splitting so that all models are run on the same split (improves result reliability), model training and testing and a graphical output of performance metrics using plotResults()"
   ]
  },
  {
   "cell_type": "code",
   "execution_count": 32,
   "id": "9a197497",
   "metadata": {},
   "outputs": [],
   "source": [
    "# Function to run models\n",
    "\n",
    "# Avoids code repitiion by encapsulating all functionality in the function, allowing models on different data splits \n",
    "# and sample sizes to be run by calling function and passing relevamt parameters\n",
    "\n",
    "\n",
    "# The function takes the features (x), labels (y) and text (t) as parameters\n",
    "# Performs:\n",
    "#     1. Train-testing data split\n",
    "#     2. Model training and testing\n",
    "#     3. Output of performance metrics through classification_report\n",
    "\n",
    "# The function does not return anything\n",
    "\n",
    "def runModels(X, y, t):\n",
    "    print(\"Performance metrics for \"+t+\" data\")\n",
    "    print(Counter(y))\n",
    "    \n",
    "    X_train, X_test, Y_train, Y_test = train_test_split(X, y, test_size = 0.33, random_state = 42)\n",
    "    \n",
    "#     KNN = KNeighborsClassifier(n_neighbors=3)\n",
    "#     cross_validation(KNN, X, y)\n",
    "#     Y_predK = KNN.fit(X_train, Y_train).predict(X_test)\n",
    "#     KNNReport = classification_report(Y_test, Y_predK, digits=4,  output_dict=True)\n",
    "#     KNNReport2 = classification_report(Y_test, Y_predK)\n",
    "#     print(KNNReport2)\n",
    "#     plotResults(KNNReport)\n",
    "    \n",
    "    regr = LogisticRegression(max_iter=1000, class_weight='balanced')\n",
    "    #cross_validation(regr, X, y)\n",
    "    Y_predL = regr.fit(X_train, Y_train).predict(X_test)\n",
    "    regrReport = classification_report(Y_test, Y_predL, digits=4,  output_dict=True)\n",
    "    regrReport2 = classification_report(Y_test, Y_predL)\n",
    "    print(regrReport2)\n",
    "    plotResults(regrReport)\n",
    "    \n",
    "#     guassian = GaussianNB()\n",
    "#     cross_validation(guassian, X, y)\n",
    "#     Y_predG = guassian.fit(X_train, Y_train).predict(X_test)\n",
    "#     guassianReport = classification_report(Y_test, Y_predG, digits=4,  output_dict=True)\n",
    "#     guassianReport2 = classification_report(Y_test, Y_predG)\n",
    "#     print(guassianReport2)\n",
    "#     plotResults(guassianReport)\n",
    "\n",
    "    \n",
    "#     Y_predRF = RandomForestClassifier(n_estimators = 100).fit(X_train, Y_train).predict(X_test)\n",
    "#     rfReport = classification_report(Y_test, Y_predRF, digits=4,  output_dict=True)\n",
    "#     plotResults(rfReport)\n",
    "    \n",
    "#     Y_predMLP = MLPClassifier(hidden_layer_sizes=(150,100,50), max_iter=300,activation = 'relu',solver='adam',random_state=1).fit(X_train, Y_train).predict(X_test)\n",
    "#     mlpReport = classification_report(Y_test, Y_predMLP, digits=4,  output_dict=True)\n",
    "#     plotResults(mlpReport)"
   ]
  },
  {
   "cell_type": "markdown",
   "id": "7f0d6fbc",
   "metadata": {},
   "source": [
    "## Unsampled Data\n",
    "\n",
    "Calculate prediction and analysis of results based on the unsampled data"
   ]
  },
  {
   "cell_type": "code",
   "execution_count": 33,
   "id": "bbbe29f4",
   "metadata": {},
   "outputs": [
    {
     "name": "stdout",
     "output_type": "stream",
     "text": [
      "0    3685486\n",
      "1      19302\n",
      "Name: is_fraud, dtype: int64\n",
      "Performance metrics for Unsampled data data\n",
      "Counter({0: 3685486, 1: 19302})\n",
      "              precision    recall  f1-score   support\n",
      "\n",
      "           0       1.00      0.95      0.97   1216168\n",
      "           1       0.08      0.75      0.14      6413\n",
      "\n",
      "    accuracy                           0.95   1222581\n",
      "   macro avg       0.54      0.85      0.56   1222581\n",
      "weighted avg       0.99      0.95      0.97   1222581\n",
      "\n"
     ]
    },
    {
     "data": {
      "image/png": "[encoded data removed]",
      "text/plain": [
       "<Figure size 432x288 with 1 Axes>"
      ]
     },
     "metadata": {
      "needs_background": "light"
     },
     "output_type": "display_data"
    },
    {
     "name": "stdout",
     "output_type": "stream",
     "text": [
      "[[-4.29249198e-01 -3.18278012e-01 -2.48909110e-01 ... -3.01294937e-01\n",
      "  -4.47020867e-02 -4.21667788e-02]\n",
      " [-4.93037520e-01 -3.24617961e-01  6.09711201e-01 ... -1.59613637e-01\n",
      "   3.62770540e-01  1.55314391e-02]\n",
      " [ 5.27247566e-01 -3.24777694e-01  4.74287813e-01 ...  9.78904251e-03\n",
      "   1.38603364e-01 -2.42374056e-03]\n",
      " ...\n",
      " [-5.20419852e-01 -2.00220823e-03  4.92482231e-01 ...  1.69326507e-02\n",
      "   2.73218330e-01  1.14879840e-03]\n",
      " [ 5.22270045e-01 -4.51211685e-03  5.46780282e-01 ...  2.05880385e-01\n",
      "   1.95841660e-01 -7.91981715e-03]\n",
      " [ 5.00079228e-01  6.03747485e-04  2.26995081e-01 ... -1.41916221e-01\n",
      "  -6.74299073e-02 -1.55561324e-02]]\n",
      "Performance metrics for PCA Transformed data\n",
      "Counter({0: 3685486, 1: 19302})\n",
      "              precision    recall  f1-score   support\n",
      "\n",
      "           0       1.00      0.57      0.73   1216168\n",
      "           1       0.01      0.56      0.01      6413\n",
      "\n",
      "    accuracy                           0.57   1222581\n",
      "   macro avg       0.50      0.57      0.37   1222581\n",
      "weighted avg       0.99      0.57      0.72   1222581\n",
      "\n"
     ]
    },
    {
     "data": {
      "image/png": "[encoded data removed]",
      "text/plain": [
       "<Figure size 432x288 with 1 Axes>"
      ]
     },
     "metadata": {
      "needs_background": "light"
     },
     "output_type": "display_data"
    }
   ],
   "source": [
    "#split the data into features and labels\n",
    "\n",
    "print(dfn['is_fraud'].value_counts())\n",
    "\n",
    "#labels (y) are the what we are trying to predict and as such, is the 'is_fraud' column\n",
    "y=dfn['is_fraud'].values\n",
    "#format data and for features (X) remove 'is_fraud' column since this is what we are trying to predict\n",
    "X=dfn.drop(['is_fraud'], axis='columns')\n",
    "#Run Models\n",
    "runModels(X, y, \"Unsampled data\")\n",
    "\n",
    "X_pca = pca(X)\n",
    "print(X_pca)\n",
    "runModels(X_pca,y,'PCA Transformed')"
   ]
  },
  {
   "cell_type": "code",
   "execution_count": 11,
   "id": "71b8ba55",
   "metadata": {},
   "outputs": [],
   "source": [
    "# models_list =[LogisticRegression(random_state= 42),\n",
    "#               GaussianNB(),\n",
    "#               RandomForestClassifier(random_state = 42),\n",
    "#               MLPClassifier(random_state=1, max_iter=300)]\n",
    "\n",
    "# score_list = [\"roc_auc\", \"accuracy\", \"f1\", \"precision\", \"recall\"]\n",
    "\n",
    "# t = plot_cv_score(X = X, y = y, models_list = models_list, cv = 5, scoring_list = score_list, refit = True)"
   ]
  },
  {
   "cell_type": "markdown",
   "id": "109c7d34",
   "metadata": {},
   "source": [
    "## Random Oversampling\n",
    "\n",
    "Random oversampling involves randomly selecting examples from the minority class, with replacement, and adding them to the training dataset.\n",
    "\n",
    "For this experiment, we will oversample the data in ratios 1:1, 10:1 and 100:1 \n",
    "Since the undersampled data was at ratio 368546:19302 majority class to minority class, random oversampling will scale up the number of datapoints for the minority class to match the above ratios."
   ]
  },
  {
   "cell_type": "code",
   "execution_count": 34,
   "id": "36b15f8c",
   "metadata": {},
   "outputs": [
    {
     "name": "stdout",
     "output_type": "stream",
     "text": [
      "Performance metrics for Random Oversampling 1:1 data\n",
      "Counter({0: 3685486, 1: 3685486})\n",
      "              precision    recall  f1-score   support\n",
      "\n",
      "           0       0.80      0.95      0.87   1215785\n",
      "           1       0.94      0.76      0.84   1216636\n",
      "\n",
      "    accuracy                           0.85   2432421\n",
      "   macro avg       0.87      0.85      0.85   2432421\n",
      "weighted avg       0.87      0.85      0.85   2432421\n",
      "\n"
     ]
    },
    {
     "data": {
      "image/png": "[encoded data removed]",
      "text/plain": [
       "<Figure size 432x288 with 1 Axes>"
      ]
     },
     "metadata": {
      "needs_background": "light"
     },
     "output_type": "display_data"
    },
    {
     "name": "stdout",
     "output_type": "stream",
     "text": [
      "[[-0.50846125  0.59633128 -0.26772055 ... -0.18432705 -0.0509982\n",
      "  -0.03946108]\n",
      " [-0.56268692  0.62723957 -0.31702515 ... -0.04619515  0.34301346\n",
      "   0.01047171]\n",
      " [ 0.45494004  0.67136193 -0.30070872 ...  0.13284577  0.12708937\n",
      "  -0.01363532]\n",
      " ...\n",
      " [ 0.51384265 -0.35362083 -0.06640095 ... -0.21668444  0.23109942\n",
      "   0.01897939]\n",
      " [ 0.51230548  0.4480859   0.55287767 ...  0.40007348 -0.01715285\n",
      "  -0.01779632]\n",
      " [-0.48364666 -0.48627811  0.2567252  ... -0.0033052   0.08741721\n",
      "  -0.01012877]]\n",
      "Performance metrics for PCA Transformed data\n",
      "Counter({0: 3685486, 1: 19302})\n"
     ]
    },
    {
     "ename": "ValueError",
     "evalue": "Found input variables with inconsistent numbers of samples: [7370972, 3704788]",
     "output_type": "error",
     "traceback": [
      "\u001b[0;31m---------------------------------------------------------------------------\u001b[0m",
      "\u001b[0;31mValueError\u001b[0m                                Traceback (most recent call last)",
      "Input \u001b[0;32mIn [34]\u001b[0m, in \u001b[0;36m<cell line: 9>\u001b[0;34m()\u001b[0m\n\u001b[1;32m      7\u001b[0m X_pca \u001b[38;5;241m=\u001b[39m pca(X_over)\n\u001b[1;32m      8\u001b[0m \u001b[38;5;28mprint\u001b[39m(X_pca)\n\u001b[0;32m----> 9\u001b[0m \u001b[43mrunModels\u001b[49m\u001b[43m(\u001b[49m\u001b[43mX_pca\u001b[49m\u001b[43m,\u001b[49m\u001b[43my\u001b[49m\u001b[43m,\u001b[49m\u001b[38;5;124;43m'\u001b[39;49m\u001b[38;5;124;43mPCA Transformed\u001b[39;49m\u001b[38;5;124;43m'\u001b[39;49m\u001b[43m)\u001b[49m\n",
      "Input \u001b[0;32mIn [32]\u001b[0m, in \u001b[0;36mrunModels\u001b[0;34m(X, y, t)\u001b[0m\n\u001b[1;32m     16\u001b[0m     \u001b[38;5;28mprint\u001b[39m(\u001b[38;5;124m\"\u001b[39m\u001b[38;5;124mPerformance metrics for \u001b[39m\u001b[38;5;124m\"\u001b[39m\u001b[38;5;241m+\u001b[39mt\u001b[38;5;241m+\u001b[39m\u001b[38;5;124m\"\u001b[39m\u001b[38;5;124m data\u001b[39m\u001b[38;5;124m\"\u001b[39m)\n\u001b[1;32m     17\u001b[0m     \u001b[38;5;28mprint\u001b[39m(Counter(y))\n\u001b[0;32m---> 19\u001b[0m     X_train, X_test, Y_train, Y_test \u001b[38;5;241m=\u001b[39m \u001b[43mtrain_test_split\u001b[49m\u001b[43m(\u001b[49m\u001b[43mX\u001b[49m\u001b[43m,\u001b[49m\u001b[43m \u001b[49m\u001b[43my\u001b[49m\u001b[43m,\u001b[49m\u001b[43m \u001b[49m\u001b[43mtest_size\u001b[49m\u001b[43m \u001b[49m\u001b[38;5;241;43m=\u001b[39;49m\u001b[43m \u001b[49m\u001b[38;5;241;43m0.33\u001b[39;49m\u001b[43m,\u001b[49m\u001b[43m \u001b[49m\u001b[43mrandom_state\u001b[49m\u001b[43m \u001b[49m\u001b[38;5;241;43m=\u001b[39;49m\u001b[43m \u001b[49m\u001b[38;5;241;43m42\u001b[39;49m\u001b[43m)\u001b[49m\n\u001b[1;32m     21\u001b[0m \u001b[38;5;66;03m#     KNN = KNeighborsClassifier(n_neighbors=3)\u001b[39;00m\n\u001b[1;32m     22\u001b[0m \u001b[38;5;66;03m#     cross_validation(KNN, X, y)\u001b[39;00m\n\u001b[1;32m     23\u001b[0m \u001b[38;5;66;03m#     Y_predK = KNN.fit(X_train, Y_train).predict(X_test)\u001b[39;00m\n\u001b[0;32m   (...)\u001b[0m\n\u001b[1;32m     26\u001b[0m \u001b[38;5;66;03m#     print(KNNReport2)\u001b[39;00m\n\u001b[1;32m     27\u001b[0m \u001b[38;5;66;03m#     plotResults(KNNReport)\u001b[39;00m\n\u001b[1;32m     29\u001b[0m     regr \u001b[38;5;241m=\u001b[39m LogisticRegression(max_iter\u001b[38;5;241m=\u001b[39m\u001b[38;5;241m1000\u001b[39m, class_weight\u001b[38;5;241m=\u001b[39m\u001b[38;5;124m'\u001b[39m\u001b[38;5;124mbalanced\u001b[39m\u001b[38;5;124m'\u001b[39m)\n",
      "File \u001b[0;32m~/opt/anaconda3/lib/python3.9/site-packages/sklearn/model_selection/_split.py:2417\u001b[0m, in \u001b[0;36mtrain_test_split\u001b[0;34m(test_size, train_size, random_state, shuffle, stratify, *arrays)\u001b[0m\n\u001b[1;32m   2414\u001b[0m \u001b[38;5;28;01mif\u001b[39;00m n_arrays \u001b[38;5;241m==\u001b[39m \u001b[38;5;241m0\u001b[39m:\n\u001b[1;32m   2415\u001b[0m     \u001b[38;5;28;01mraise\u001b[39;00m \u001b[38;5;167;01mValueError\u001b[39;00m(\u001b[38;5;124m\"\u001b[39m\u001b[38;5;124mAt least one array required as input\u001b[39m\u001b[38;5;124m\"\u001b[39m)\n\u001b[0;32m-> 2417\u001b[0m arrays \u001b[38;5;241m=\u001b[39m \u001b[43mindexable\u001b[49m\u001b[43m(\u001b[49m\u001b[38;5;241;43m*\u001b[39;49m\u001b[43marrays\u001b[49m\u001b[43m)\u001b[49m\n\u001b[1;32m   2419\u001b[0m n_samples \u001b[38;5;241m=\u001b[39m _num_samples(arrays[\u001b[38;5;241m0\u001b[39m])\n\u001b[1;32m   2420\u001b[0m n_train, n_test \u001b[38;5;241m=\u001b[39m _validate_shuffle_split(\n\u001b[1;32m   2421\u001b[0m     n_samples, test_size, train_size, default_test_size\u001b[38;5;241m=\u001b[39m\u001b[38;5;241m0.25\u001b[39m\n\u001b[1;32m   2422\u001b[0m )\n",
      "File \u001b[0;32m~/opt/anaconda3/lib/python3.9/site-packages/sklearn/utils/validation.py:378\u001b[0m, in \u001b[0;36mindexable\u001b[0;34m(*iterables)\u001b[0m\n\u001b[1;32m    359\u001b[0m \u001b[38;5;124;03m\"\"\"Make arrays indexable for cross-validation.\u001b[39;00m\n\u001b[1;32m    360\u001b[0m \n\u001b[1;32m    361\u001b[0m \u001b[38;5;124;03mChecks consistent length, passes through None, and ensures that everything\u001b[39;00m\n\u001b[0;32m   (...)\u001b[0m\n\u001b[1;32m    374\u001b[0m \u001b[38;5;124;03m    sparse matrix, or dataframe) or `None`.\u001b[39;00m\n\u001b[1;32m    375\u001b[0m \u001b[38;5;124;03m\"\"\"\u001b[39;00m\n\u001b[1;32m    377\u001b[0m result \u001b[38;5;241m=\u001b[39m [_make_indexable(X) \u001b[38;5;28;01mfor\u001b[39;00m X \u001b[38;5;129;01min\u001b[39;00m iterables]\n\u001b[0;32m--> 378\u001b[0m \u001b[43mcheck_consistent_length\u001b[49m\u001b[43m(\u001b[49m\u001b[38;5;241;43m*\u001b[39;49m\u001b[43mresult\u001b[49m\u001b[43m)\u001b[49m\n\u001b[1;32m    379\u001b[0m \u001b[38;5;28;01mreturn\u001b[39;00m result\n",
      "File \u001b[0;32m~/opt/anaconda3/lib/python3.9/site-packages/sklearn/utils/validation.py:332\u001b[0m, in \u001b[0;36mcheck_consistent_length\u001b[0;34m(*arrays)\u001b[0m\n\u001b[1;32m    330\u001b[0m uniques \u001b[38;5;241m=\u001b[39m np\u001b[38;5;241m.\u001b[39munique(lengths)\n\u001b[1;32m    331\u001b[0m \u001b[38;5;28;01mif\u001b[39;00m \u001b[38;5;28mlen\u001b[39m(uniques) \u001b[38;5;241m>\u001b[39m \u001b[38;5;241m1\u001b[39m:\n\u001b[0;32m--> 332\u001b[0m     \u001b[38;5;28;01mraise\u001b[39;00m \u001b[38;5;167;01mValueError\u001b[39;00m(\n\u001b[1;32m    333\u001b[0m         \u001b[38;5;124m\"\u001b[39m\u001b[38;5;124mFound input variables with inconsistent numbers of samples: \u001b[39m\u001b[38;5;132;01m%r\u001b[39;00m\u001b[38;5;124m\"\u001b[39m\n\u001b[1;32m    334\u001b[0m         \u001b[38;5;241m%\u001b[39m [\u001b[38;5;28mint\u001b[39m(l) \u001b[38;5;28;01mfor\u001b[39;00m l \u001b[38;5;129;01min\u001b[39;00m lengths]\n\u001b[1;32m    335\u001b[0m     )\n",
      "\u001b[0;31mValueError\u001b[0m: Found input variables with inconsistent numbers of samples: [7370972, 3704788]"
     ]
    }
   ],
   "source": [
    "# Perform random over-sampling on dataset\n",
    "\n",
    "ros = RandomOverSampler(random_state=0)\n",
    "X_over, y_over = ros.fit_resample(X, y)\n",
    "runModels(X_over, y_over, \"Random Oversampling 1:1\")\n",
    "\n",
    "X_pca = pca(X_over)\n",
    "print(X_pca)\n",
    "runModels(X_pca,y,'PCA Transformed')\n",
    "\n",
    "# ros2 = RandomOverSampler(random_state=0, sampling_strategy={1:368549})\n",
    "# X_over2, y_over2 = ros2.fit_resample(X, y)\n",
    "# runModels(X_over2, y_over2, \"Random Oversampling 10:1\")\n",
    "\n",
    "# ros3 = RandomOverSampler(random_state=0, sampling_strategy={1:36855})\n",
    "# X_over3, y_over3 = ros3.fit_resample(X, y)\n",
    "# runModels(X_over3, y_over3, \"Random Oversampling 100:1\")"
   ]
  },
  {
   "cell_type": "markdown",
   "id": "dff1c50f",
   "metadata": {},
   "source": [
    "## SMOTE - Systematic Minority Oversampling\n",
    "\n",
    "SMOTE works by selecting examples that are close in the feature space, drawing a line between the examples in the feature space and drawing a new sample at a point along that line.\n",
    "\n",
    "For this experiment, we will oversample the data in ratios 1:1, 10:1 and 100:1 \n",
    "Since the undersampled data was at ratio 368546:19302 majority class to minority class, smote will scale up the number of datapoints for the minority class to match the above ratios."
   ]
  },
  {
   "cell_type": "code",
   "execution_count": 39,
   "id": "7bb44e84",
   "metadata": {},
   "outputs": [
    {
     "name": "stdout",
     "output_type": "stream",
     "text": [
      "Performance metrics for Systematic Majority Oversampling 1:1 data\n",
      "Counter({0: 3685486, 1: 3685486})\n",
      "              precision    recall  f1-score   support\n",
      "\n",
      "           0       0.80      0.95      0.87   1215785\n",
      "           1       0.94      0.76      0.84   1216636\n",
      "\n",
      "    accuracy                           0.85   2432421\n",
      "   macro avg       0.87      0.85      0.85   2432421\n",
      "weighted avg       0.87      0.85      0.85   2432421\n",
      "\n"
     ]
    },
    {
     "data": {
      "image/png": "[encoded data removed]",
      "text/plain": [
       "<Figure size 432x288 with 1 Axes>"
      ]
     },
     "metadata": {
      "needs_background": "light"
     },
     "output_type": "display_data"
    },
    {
     "name": "stdout",
     "output_type": "stream",
     "text": [
      "Performance metrics for Systematic Majority Oversampling 10:1 data\n",
      "Counter({0: 3685486, 1: 368549})\n",
      "              precision    recall  f1-score   support\n",
      "\n",
      "           0       0.97      0.95      0.96   1216355\n",
      "           1       0.60      0.76      0.67    121477\n",
      "\n",
      "    accuracy                           0.93   1337832\n",
      "   macro avg       0.79      0.85      0.81   1337832\n",
      "weighted avg       0.94      0.93      0.94   1337832\n",
      "\n"
     ]
    },
    {
     "data": {
      "image/png": "[encoded data removed]",
      "text/plain": [
       "<Figure size 432x288 with 1 Axes>"
      ]
     },
     "metadata": {
      "needs_background": "light"
     },
     "output_type": "display_data"
    },
    {
     "name": "stdout",
     "output_type": "stream",
     "text": [
      "Performance metrics for Systematic Majority Oversampling 100:1 data\n",
      "Counter({0: 3685486, 1: 36855})\n",
      "              precision    recall  f1-score   support\n",
      "\n",
      "           0       1.00      0.95      0.97   1216128\n",
      "           1       0.14      0.76      0.23     12245\n",
      "\n",
      "    accuracy                           0.95   1228373\n",
      "   macro avg       0.57      0.85      0.60   1228373\n",
      "weighted avg       0.99      0.95      0.97   1228373\n",
      "\n"
     ]
    },
    {
     "data": {
      "image/png": "[encoded data removed]",
      "text/plain": [
       "<Figure size 432x288 with 1 Axes>"
      ]
     },
     "metadata": {
      "needs_background": "light"
     },
     "output_type": "display_data"
    }
   ],
   "source": [
    "smote = SMOTE(random_state=42)\n",
    "X_smote, y_smote = smote.fit_resample(X, y)\n",
    "runModels(X_smote, y_smote, \"Systematic Majority Oversampling 1:1\")\n",
    "\n",
    "smote2 = SMOTE(random_state=42, sampling_strategy={1:368549})\n",
    "X_smote2, y_smote2 = smote2.fit_resample(X, y)\n",
    "runModels(X_smote2, y_smote2, \"Systematic Majority Oversampling 10:1\")\n",
    "\n",
    "smote3 = SMOTE(random_state=42, sampling_strategy={1:36855})\n",
    "X_smote3, y_smote3  = smote3.fit_resample(X, y)\n",
    "runModels(X_smote3, y_smote3, \"Systematic Majority Oversampling 100:1\")"
   ]
  },
  {
   "cell_type": "markdown",
   "id": "faa36b59",
   "metadata": {},
   "source": [
    "## Random Undersampling\n",
    "\n",
    "Random undersampling involves randomly selecting examples from the majority class to delete from the training dataset. This has the effect of reducing the number of examples in the majority class in the transformed version of the training dataset.\n",
    "\n",
    "For this experiment, we will undersample the data in ratios 1:1, 10:1 and 100:1 Since the data was at ratio 368546:19302 majority class to minority class, random undersampling will scale down the number of datapoints for the majority class to match the above ratios."
   ]
  },
  {
   "cell_type": "code",
   "execution_count": 38,
   "id": "386873e0",
   "metadata": {},
   "outputs": [
    {
     "name": "stdout",
     "output_type": "stream",
     "text": [
      "Performance metrics for Random Undersampling 1:1 data\n",
      "Counter({0: 19302, 1: 19302})\n",
      "              precision    recall  f1-score   support\n",
      "\n",
      "           0       0.80      0.95      0.87      6388\n",
      "           1       0.94      0.76      0.84      6352\n",
      "\n",
      "    accuracy                           0.86     12740\n",
      "   macro avg       0.87      0.86      0.86     12740\n",
      "weighted avg       0.87      0.86      0.86     12740\n",
      "\n"
     ]
    },
    {
     "data": {
      "image/png": "[encoded data removed]",
      "text/plain": [
       "<Figure size 432x288 with 1 Axes>"
      ]
     },
     "metadata": {
      "needs_background": "light"
     },
     "output_type": "display_data"
    },
    {
     "name": "stdout",
     "output_type": "stream",
     "text": [
      "Performance metrics for Random Undersampling 10:1 data\n",
      "Counter({0: 193020, 1: 19302})\n",
      "              precision    recall  f1-score   support\n",
      "\n",
      "           0       0.97      0.95      0.96     63766\n",
      "           1       0.60      0.75      0.67      6301\n",
      "\n",
      "    accuracy                           0.93     70067\n",
      "   macro avg       0.79      0.85      0.81     70067\n",
      "weighted avg       0.94      0.93      0.94     70067\n",
      "\n"
     ]
    },
    {
     "data": {
      "image/png": "[encoded data removed]",
      "text/plain": [
       "<Figure size 432x288 with 1 Axes>"
      ]
     },
     "metadata": {
      "needs_background": "light"
     },
     "output_type": "display_data"
    },
    {
     "name": "stdout",
     "output_type": "stream",
     "text": [
      "Performance metrics for Random Undersampling 100:1 data\n",
      "Counter({0: 1930200, 1: 19302})\n",
      "              precision    recall  f1-score   support\n",
      "\n",
      "           0       1.00      0.95      0.97    636862\n",
      "           1       0.14      0.76      0.24      6474\n",
      "\n",
      "    accuracy                           0.95    643336\n",
      "   macro avg       0.57      0.86      0.61    643336\n",
      "weighted avg       0.99      0.95      0.97    643336\n",
      "\n"
     ]
    },
    {
     "data": {
      "image/png": "[encoded data removed]",
      "text/plain": [
       "<Figure size 432x288 with 1 Axes>"
      ]
     },
     "metadata": {
      "needs_background": "light"
     },
     "output_type": "display_data"
    }
   ],
   "source": [
    "# Perform random under-sampling on dataset\n",
    "\n",
    "rus = RandomUnderSampler(random_state=0)\n",
    "X_under, y_under = rus.fit_resample(X, y)\n",
    "runModels(X_under, y_under, \"Random Undersampling 1:1\")\n",
    "\n",
    "rus2 = RandomUnderSampler(random_state=0, sampling_strategy={0:193020, 1:19302})\n",
    "X_under2, y_under2 = rus2.fit_resample(X, y)\n",
    "runModels(X_under2, y_under2, \"Random Undersampling 10:1\")\n",
    "\n",
    "rus3 = RandomUnderSampler(random_state=0, sampling_strategy={0:1930200, 1:19302})\n",
    "X_under3, y_under3 = rus3.fit_resample(X, y)\n",
    "runModels(X_under3, y_under3, \"Random Undersampling 100:1\")"
   ]
  },
  {
   "cell_type": "markdown",
   "id": "f902e789",
   "metadata": {},
   "source": [
    "## Nearmiss Undersampling\n",
    "\n",
    "NearMiss (V3) involves selecting a given number of majority class examples for each example in the minority class that are closest and deleting them from the dataset.\n",
    "\n",
    "For this experiment, we will undersample the data in ratios 1:1, 10:1 and 100:1 Since the data was at ratio 368546:19302 majority class to minority class, near-miss undersampling will scale down the number of datapoints for the majority class to match the above ratios."
   ]
  },
  {
   "cell_type": "code",
   "execution_count": 36,
   "id": "50c31045",
   "metadata": {},
   "outputs": [
    {
     "name": "stderr",
     "output_type": "stream",
     "text": [
      "/Users/michael/opt/anaconda3/lib/python3.9/site-packages/imblearn/under_sampling/_prototype_selection/_nearmiss.py:188: UserWarning: The number of the samples to be selected is larger than the number of samples available. The balancing ratio cannot be ensure and all samples will be returned.\n",
      "  warnings.warn(\n"
     ]
    },
    {
     "name": "stdout",
     "output_type": "stream",
     "text": [
      "Performance metrics for Near Miss Undersampling 1:1 data\n",
      "Counter({1: 19302, 0: 18210})\n",
      "              precision    recall  f1-score   support\n",
      "\n",
      "           0       0.54      0.64      0.58      6018\n",
      "           1       0.58      0.48      0.53      6361\n",
      "\n",
      "    accuracy                           0.56     12379\n",
      "   macro avg       0.56      0.56      0.56     12379\n",
      "weighted avg       0.56      0.56      0.55     12379\n",
      "\n"
     ]
    },
    {
     "data": {
      "image/png": "[encoded data removed]",
      "text/plain": [
       "<Figure size 432x288 with 1 Axes>"
      ]
     },
     "metadata": {
      "needs_background": "light"
     },
     "output_type": "display_data"
    },
    {
     "name": "stderr",
     "output_type": "stream",
     "text": [
      "/Users/michael/opt/anaconda3/lib/python3.9/site-packages/imblearn/under_sampling/_prototype_selection/_nearmiss.py:188: UserWarning: The number of the samples to be selected is larger than the number of samples available. The balancing ratio cannot be ensure and all samples will be returned.\n",
      "  warnings.warn(\n"
     ]
    },
    {
     "name": "stdout",
     "output_type": "stream",
     "text": [
      "Performance metrics for Near Miss Undersampling 10:1 data\n",
      "Counter({1: 19302, 0: 18210})\n",
      "              precision    recall  f1-score   support\n",
      "\n",
      "           0       0.54      0.64      0.58      6018\n",
      "           1       0.58      0.48      0.53      6361\n",
      "\n",
      "    accuracy                           0.56     12379\n",
      "   macro avg       0.56      0.56      0.56     12379\n",
      "weighted avg       0.56      0.56      0.55     12379\n",
      "\n"
     ]
    },
    {
     "data": {
      "image/png": "[encoded data removed]",
      "text/plain": [
       "<Figure size 432x288 with 1 Axes>"
      ]
     },
     "metadata": {
      "needs_background": "light"
     },
     "output_type": "display_data"
    },
    {
     "name": "stderr",
     "output_type": "stream",
     "text": [
      "/Users/michael/opt/anaconda3/lib/python3.9/site-packages/imblearn/under_sampling/_prototype_selection/_nearmiss.py:188: UserWarning: The number of the samples to be selected is larger than the number of samples available. The balancing ratio cannot be ensure and all samples will be returned.\n",
      "  warnings.warn(\n"
     ]
    },
    {
     "name": "stdout",
     "output_type": "stream",
     "text": [
      "Performance metrics for Near Miss Undersampling 100:1 data\n",
      "Counter({1: 19302, 0: 18210})\n",
      "              precision    recall  f1-score   support\n",
      "\n",
      "           0       0.54      0.64      0.58      6018\n",
      "           1       0.58      0.48      0.53      6361\n",
      "\n",
      "    accuracy                           0.56     12379\n",
      "   macro avg       0.56      0.56      0.56     12379\n",
      "weighted avg       0.56      0.56      0.55     12379\n",
      "\n"
     ]
    },
    {
     "data": {
      "image/png": "[encoded data removed]",
      "text/plain": [
       "<Figure size 432x288 with 1 Axes>"
      ]
     },
     "metadata": {
      "needs_background": "light"
     },
     "output_type": "display_data"
    }
   ],
   "source": [
    "nearmiss = NearMiss(version=3)\n",
    "X_nearmiss, y_nearmiss= nearmiss.fit_resample(X, y)\n",
    "runModels(X_nearmiss, y_nearmiss, \"Near Miss Undersampling 1:1\")\n",
    "\n",
    "nearmiss2 = NearMiss(version=3, sampling_strategy={0:193020})\n",
    "X_nearmiss2, y_nearmiss2= nearmiss2.fit_resample(X, y)\n",
    "runModels(X_nearmiss, y_nearmiss, \"Near Miss Undersampling 10:1\")\n",
    "\n",
    "nearmiss3 = NearMiss(version=3, sampling_strategy={0:1930200})\n",
    "X_nearmiss3, y_nearmiss3= nearmiss3.fit_resample(X, y)\n",
    "runModels(X_nearmiss3, y_nearmiss3, \"Near Miss Undersampling 100:1\")"
   ]
  }
 ],
 "metadata": {
  "kernelspec": {
   "display_name": "Python 3 (ipykernel)",
   "language": "python",
   "name": "python3"
  },
  "language_info": {
   "codemirror_mode": {
    "name": "ipython",
    "version": 3
   },
   "file_extension": ".py",
   "mimetype": "text/x-python",
   "name": "python",
   "nbconvert_exporter": "python",
   "pygments_lexer": "ipython3",
   "version": "3.9.12"
  }
 },
 "nbformat": 4,
 "nbformat_minor": 5
}
